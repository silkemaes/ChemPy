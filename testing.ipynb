{
 "cells": [
  {
   "cell_type": "code",
   "execution_count": 1,
   "metadata": {},
   "outputs": [],
   "source": [
    "import numpy as np\n",
    "from astropy import constants as cst"
   ]
  },
  {
   "cell_type": "code",
   "execution_count": null,
   "metadata": {},
   "outputs": [],
   "source": [
    "## Physical constants\n",
    "kB = cst.k_B.cgs.value          ## Boltzmann constant [erg/K]\n",
    "mH = cst.u.to('g').value        ## mass H atom = atomic mass unit [g]\n",
    "\n",
    "## Other constants\n",
    "pi = np.pi\n",
    "\n",
    "\n",
    "#-- GRAIN PARAMETERS FOR H2 FORMATION AND CR IONISATION\n",
    "rGr = 1.0E-5        ## grain radius [cm]\n",
    "nGr = 1.5e-12       ## grain number density/H2 (assuming gas/dust = 200, rho = 3.5 g/cm^3)\n",
    "w = 0.5             ## grain albedo\n",
    "AUV_AV = 4.65\n",
    "stckH = 0.3         ## sticking coefficient for H atoms"
   ]
  },
  {
   "cell_type": "code",
   "execution_count": 6,
   "metadata": {},
   "outputs": [
    {
     "name": "stdout",
     "output_type": "stream",
     "text": [
      "1.380649e-16\n"
     ]
    }
   ],
   "source": [
    "print(cst.k_B.cgs.value)"
   ]
  },
  {
   "cell_type": "code",
   "execution_count": null,
   "metadata": {},
   "outputs": [],
   "source": [
    "def readinput(file):\n",
    "    \n",
    "\n",
    "    Haccr = stckH *pi*(rGr**2.0)*ρ*nGr*(8.0*kB*T/(pi*mH))**0.5\n",
    "    return ρ, T, δ, Av, Haccr"
   ]
  },
  {
   "cell_type": "code",
   "execution_count": 20,
   "metadata": {},
   "outputs": [
    {
     "name": "stdout",
     "output_type": "stream",
     "text": [
      "['### Inputfile TorchChem ###\\n', '### ------------------- ###\\n', '\\n', '## Use : to split input to create specific models.\\n', '## Use ; to cross all input values.\\n', '\\n', '\\n', '## --\\n', '\\n', '# density [Msol/yr]\\n', 'dens = 1e-6\\n', '\\n', '# temperature [K]\\n', 'temp = 2000\\n', '\\n', '# overall dilution of the radiation field\\n', 'delta = 1\\n', '\\n', '# species-specific extinction (connected to optical depth)\\n', 'Av = 1\\n', '\\n', '## --']\n",
      "\n",
      "[['###', 'Inputfile', 'TorchChem', '###'], ['###', '-------------------', '###'], [''], ['##', 'Use', ':', 'to', 'split', 'input', 'to', 'create', 'specific', 'models.'], ['##', 'Use', ';', 'to', 'cross', 'all', 'input', 'values.'], [''], [''], ['##', '--'], [''], ['#', 'density', '[Msol/yr]'], ['dens', '=', '1e-6'], [''], ['#', 'temperature', '[K]'], ['temp', '=', '2000'], [''], ['#', 'overall', 'dilution', 'of', 'the', 'radiation', 'field'], ['delta', '=', '1'], [''], ['#', 'species-specific', 'extinction', '(connected', 'to', 'optical', 'depth)'], ['Av', '=', '1'], [''], ['##', '--']]\n"
     ]
    }
   ],
   "source": [
    "infile = '/lhome/silkem/ChemTorch/ChemTorch/input/input.txt'\n",
    "\n",
    "filelines = list()\n",
    "\n",
    "with open(infile, 'r') as f:\n",
    "    lines = f.readlines()\n",
    "\n",
    "print(lines)\n",
    "for i in range(len(lines)):\n",
    "    lines[i]=lines[i].replace(' \\n', '')\n",
    "    lines[i]=lines[i].replace('\\n', '')\n",
    "    lines[i]=lines[i].split(' ')\n",
    "\n",
    "print('')\n",
    "print(lines)\n",
    "# for i, line in enumerate(lines):\n",
    "    # if line == "
   ]
  }
 ],
 "metadata": {
  "interpreter": {
   "hash": "4cfec3ae79f839ed35c55406a3ad8c3c1082e0129819951cbf0a51bf47981102"
  },
  "kernelspec": {
   "display_name": "Python 3.9.16 ('mace')",
   "language": "python",
   "name": "python3"
  },
  "language_info": {
   "codemirror_mode": {
    "name": "ipython",
    "version": 3
   },
   "file_extension": ".py",
   "mimetype": "text/x-python",
   "name": "python",
   "nbconvert_exporter": "python",
   "pygments_lexer": "ipython3",
   "version": "3.9.16"
  },
  "orig_nbformat": 4
 },
 "nbformat": 4,
 "nbformat_minor": 2
}
