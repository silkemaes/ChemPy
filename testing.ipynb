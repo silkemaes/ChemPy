{
 "cells": [
  {
   "cell_type": "code",
   "execution_count": 1,
   "metadata": {},
   "outputs": [],
   "source": [
    "import numpy as np\n",
    "from astropy import constants as cst"
   ]
  },
  {
   "cell_type": "code",
   "execution_count": null,
   "metadata": {},
   "outputs": [],
   "source": [
    "## Physical constants\n",
    "kb = cst.k_B.value          ## Boltzmann constant   [J/K]\n",
    "mH = cst.u.to('g').value    ## mass H atom = atomic mass unit [g]\n",
    "\n",
    "## Constants\n",
    "pi = np.pi"
   ]
  },
  {
   "cell_type": "code",
   "execution_count": 6,
   "metadata": {},
   "outputs": [
    {
     "name": "stdout",
     "output_type": "stream",
     "text": [
      "1.380649e-16\n"
     ]
    }
   ],
   "source": [
    "print(cst.k_B.cgs.value)"
   ]
  },
  {
   "cell_type": "code",
   "execution_count": null,
   "metadata": {},
   "outputs": [],
   "source": [
    "def readinput(file):\n",
    "    \n",
    "\n",
    "    Haccr = stckH *pi*(rGr**2.0)*ρ*nGr*(8.0*kB*T/(pi*mH))**0.5\n",
    "    return ρ, T, δ, Av, Haccr"
   ]
  }
 ],
 "metadata": {
  "interpreter": {
   "hash": "4cfec3ae79f839ed35c55406a3ad8c3c1082e0129819951cbf0a51bf47981102"
  },
  "kernelspec": {
   "display_name": "Python 3.9.16 ('mace')",
   "language": "python",
   "name": "python3"
  },
  "language_info": {
   "codemirror_mode": {
    "name": "ipython",
    "version": 3
   },
   "file_extension": ".py",
   "mimetype": "text/x-python",
   "name": "python",
   "nbconvert_exporter": "python",
   "pygments_lexer": "ipython3",
   "version": "3.9.16"
  },
  "orig_nbformat": 4
 },
 "nbformat": 4,
 "nbformat_minor": 2
}
