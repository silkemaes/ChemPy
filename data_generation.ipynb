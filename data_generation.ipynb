{
 "cells": [
  {
   "cell_type": "code",
   "execution_count": 27,
   "metadata": {},
   "outputs": [],
   "source": [
    "import numpy                as np\n",
    "import matplotlib.pyplot    as plt\n",
    "from astropy import units   as units\n",
    "import sys\n",
    "from pathlib            import Path\n",
    "from matplotlib         import rcParams, rc\n",
    "from scipy.interpolate  import interp1d\n",
    "# Change the matplotlib default parameters\n",
    "rcParams.update({'font.size':   8})\n",
    "rcParams.update({'figure.dpi': 120})\n",
    "\n",
    "sys.path.append('/lhome/silkem/ChemTorch/ChemTorch/')\n",
    "from read               import read_data_chemtorch\n",
    "# from src.rates          import *\n",
    "from solve_n_save       import solve\n",
    "from src.input          import density\n",
    "\n",
    "rate = 16\n",
    "\n",
    "outloc = '/lhome/silkem/ChemTorch/ChemTorch/out/'"
   ]
  },
  {
   "cell_type": "code",
   "execution_count": null,
   "metadata": {},
   "outputs": [],
   "source": [
    "# opslaan als np.array() via np.save(array,naam) & np.load(naam)"
   ]
  },
  {
   "cell_type": "code",
   "execution_count": 93,
   "metadata": {},
   "outputs": [
    {
     "data": {
      "image/png": "[encoded data removed]",
      "text/plain": [
       "<Figure size 768x576 with 1 Axes>"
      ]
     },
     "metadata": {},
     "output_type": "display_data"
    }
   ],
   "source": [
    "### !!! HIER VERONDERSTELLEN WE ONGECORRELEERDE PARAMETERS\n",
    "\n",
    "nstep = 512\n",
    "\n",
    "def dens(x):\n",
    "\treturn 1./(x+1.001)\n",
    "\n",
    "def temp(x):\n",
    "\treturn np.ones_like(x)\n",
    "\n",
    "def delta(x):\n",
    "\treturn np.ones_like(x)\n",
    "\n",
    "def Av(x):\n",
    "\treturn np.ones_like(x)\n",
    "\n",
    "def dt(x):\n",
    "\treturn x**3./(-1.+np.exp(-x+3.8001))\n",
    "\n",
    "## cummulative sum \n",
    "## generate random numbers between [0,1)\n",
    "## Define a function to return N samples\n",
    "def genSamples(xmin, xmax, nstep, N, f):\n",
    "\txbin = np.linspace(xmin, xmax, nstep)\n",
    "\tycum = np.cumsum(f(xbin))\n",
    "\tu = np.random.uniform(ycum.min(), ycum.max(), int(N))\n",
    "    ## take the inverse of cumm. function\n",
    "\tfunc_interp = interp1d(ycum, xbin)\n",
    "\tsamples = func_interp(u)\n",
    "\treturn samples\n",
    "\n",
    "dens_min = -1.\n",
    "dens_max = 1.\n",
    "temp_min = -2.\n",
    "temp_max = 5\n",
    "delt_min = 1.e-6\n",
    "delt_max = 1\n",
    "Av_min = np.log(delt_min)\n",
    "Av_max = np.log(delt_max)\n",
    "dt_min = 3.8\n",
    "dt_max = 5.\n",
    "\n",
    "samples = 1.e4\n",
    "\n",
    "dens_samples = genSamples(dens_min, dens_max, nstep, samples, dens)\n",
    "temp_samples = genSamples(temp_min, temp_max, nstep, samples, temp)\n",
    "delt_samples = genSamples(delt_min, delt_max, nstep, samples, delta)\n",
    "Av_samples = genSamples(Av_min, Av_max, nstep, samples, Av)\n",
    "dt_samples = genSamples(dt_min, dt_max, nstep, samples, dt)\n",
    "\n",
    "plt.hist(dens_samples,bins=100, density=True, color='r', alpha=0.7, label = 'density')\n",
    "plt.hist(temp_samples,bins=100, density=True, color='b', alpha=0.7, label = 'temp')\n",
    "plt.hist(delt_samples,bins=100, density=True, color='y', alpha=0.7, label = 'delta')\n",
    "plt.hist(Av_samples,bins=100, density=True, color='g', alpha=0.7, label = 'Av')\n",
    "plt.hist(dt_samples,bins=100, density=True, color='grey', alpha=0.7, label = 'dt')\n",
    "\n",
    "plt.legend()\n",
    "plt.show()"
   ]
  },
  {
   "cell_type": "code",
   "execution_count": null,
   "metadata": {},
   "outputs": [],
   "source": [
    "# elke run eigen map, uniek, date ofzo\n",
    "# checken op andere computer dat wanneer ge random seeds maakt, dat de random getallen effectief anders zijn\n",
    "# nu enkel variaties van variabelen, begin met een gekozen input\n",
    "# starten van de chemie waar ge mee eindigd --> paden in de fysiochemische ruimte\n",
    "# eind abundantie terug meegeven, niet initialiseren"
   ]
  }
 ],
 "metadata": {
  "interpreter": {
   "hash": "4cfec3ae79f839ed35c55406a3ad8c3c1082e0129819951cbf0a51bf47981102"
  },
  "kernelspec": {
   "display_name": "Python 3.9.16 ('mace')",
   "language": "python",
   "name": "python3"
  },
  "language_info": {
   "codemirror_mode": {
    "name": "ipython",
    "version": 3
   },
   "file_extension": ".py",
   "mimetype": "text/x-python",
   "name": "python",
   "nbconvert_exporter": "python",
   "pygments_lexer": "ipython3",
   "version": "3.9.16"
  },
  "orig_nbformat": 4
 },
 "nbformat": 4,
 "nbformat_minor": 2
}
