{
 "cells": [
  {
   "cell_type": "code",
   "execution_count": 1,
   "metadata": {},
   "outputs": [],
   "source": [
    "from src.odes        import ODE\n",
    "from scipy.integrate import solve_ivp"
   ]
  },
  {
   "cell_type": "code",
   "execution_count": null,
   "metadata": {},
   "outputs": [],
   "source": [
    "def ODE(t, )\n",
    "\n",
    "\n",
    "def ODE(t,Y, args):\n",
    "\n",
    "    TOTAL = args[0]\n",
    "    K     = args[1]\n",
    "    HNR   = args[2]\n",
    "    ACCR  = args[3]\n",
    "    \n",
    "    YDOT  = np.empty(number_of_non_conserved_species)\n",
    "    X     = np.empty(number_of_conserved_species)\n",
    "\n",
    "    ...\n",
    "\n",
    "    return YDOT"
   ]
  }
 ],
 "metadata": {
  "kernelspec": {
   "display_name": "magritte",
   "language": "python",
   "name": "python3"
  },
  "language_info": {
   "codemirror_mode": {
    "name": "ipython",
    "version": 3
   },
   "file_extension": ".py",
   "mimetype": "text/x-python",
   "name": "python",
   "nbconvert_exporter": "python",
   "pygments_lexer": "ipython3",
   "version": "3.9.13"
  },
  "orig_nbformat": 4
 },
 "nbformat": 4,
 "nbformat_minor": 2
}
