{
 "cells": [
  {
   "cell_type": "code",
   "execution_count": 27,
   "metadata": {},
   "outputs": [],
   "source": [
    "import numpy             as np\n",
    "import matplotlib.pyplot as plt\n",
    "\n",
    "from src.odes_test1_new import ODE\n",
    "from src.rates          import initialise_abs, calculating_rates\n",
    "from scipy.integrate    import solve_ivp\n",
    "from astropy            import constants"
   ]
  },
  {
   "cell_type": "code",
   "execution_count": 2,
   "metadata": {},
   "outputs": [],
   "source": [
    "## Physical constants\n",
    "kB = constants.k_B.cgs.value          ## Boltzmann constant [erg/K]\n",
    "mH = constants.u.to('g').value        ## mass H atom = atomic mass unit [g]\n",
    "\n",
    "## Other constants\n",
    "pi = np.pi\n",
    "\n",
    "#-- GRAIN PARAMETERS FOR H2 FORMATION AND CR IONISATION\n",
    "rGr    = 1.0E-5    ## grain radius [cm]\n",
    "nGr    = 1.5e-12   ## grain number density/H2 (assuming gas/dust = 200, rho = 3.5 g/cm^3)\n",
    "w      = 0.5       ## grain albedo\n",
    "AUV_AV = 4.65\n",
    "stckH  = 0.3       ## sticking coefficient for H atoms"
   ]
  },
  {
   "cell_type": "code",
   "execution_count": 3,
   "metadata": {},
   "outputs": [],
   "source": [
    "## input values physics\n",
    "ρ  = 1e-6\n",
    "T  = 2500.\n",
    "δ  = 1.\n",
    "Av = 1.\n",
    "\n",
    "## input chemistry\n",
    "chemtype = 'C'\n",
    "\n",
    "## calculate H accretion on dust\n",
    "Haccr = stckH *pi*(rGr**2.0)*ρ*nGr*(8.0*kB*T/(pi*mH))**0.5"
   ]
  },
  {
   "cell_type": "code",
   "execution_count": 5,
   "metadata": {},
   "outputs": [],
   "source": [
    "n, n_consv = initialise_abs(chemtype)\n",
    "ndot       = np.zeros(len(n))\n",
    "X          = np.zeros(len(n_consv))\n",
    "k          = calculating_rates(T, δ, Av)"
   ]
  },
  {
   "cell_type": "code",
   "execution_count": 9,
   "metadata": {},
   "outputs": [],
   "source": [
    "t=0.0\n",
    "# ODE(t, n, n_consv, ndot, X, k, ρ, Haccr)"
   ]
  },
  {
   "cell_type": "code",
   "execution_count": 45,
   "metadata": {},
   "outputs": [
    {
     "name": "stdout",
     "output_type": "stream",
     "text": [
      "The solver successfully reached the end of the integration interval.\n"
     ]
    }
   ],
   "source": [
    "def f(t, y, a, b):\n",
    "\n",
    "    return -a*y + b\n",
    "\n",
    "Δt = 1.0e+5\n",
    "# y0 = np.random.randn(2)\n",
    "\n",
    "# a = 1.3\n",
    "# b = 5.2\n",
    "\n",
    "solution = solve_ivp(\n",
    "    fun          = ODE,\n",
    "    t_span       = [0.0, Δt],\n",
    "    y0           = n,\n",
    "    method       = 'BDF',\n",
    "    args         = (n_consv, ndot, X, k, ρ, Haccr),\n",
    "    dense_output = False\n",
    ")\n",
    "\n",
    "assert solution['status'] == 0\n",
    "\n",
    "ys = solution['y']\n",
    "ts = solution['t']\n",
    "\n",
    "print(solution['message'])"
   ]
  },
  {
   "cell_type": "code",
   "execution_count": 46,
   "metadata": {},
   "outputs": [
    {
     "data": {
      "text/plain": [
       "(1e-50, 1.0)"
      ]
     },
     "execution_count": 46,
     "metadata": {},
     "output_type": "execute_result"
    },
    {
     "data": {
      "image/png": "[encoded data removed]",
      "text/plain": [
       "<Figure size 432x288 with 1 Axes>"
      ]
     },
     "metadata": {
      "needs_background": "light"
     },
     "output_type": "display_data"
    }
   ],
   "source": [
    "for i in range(ys.shape[0]):\n",
    "    plt.plot(ts, ys[i])\n",
    "plt.yscale('log')\n",
    "plt.ylim((1.0e-50, 1.0e+0))"
   ]
  },
  {
   "cell_type": "code",
   "execution_count": 44,
   "metadata": {},
   "outputs": [
    {
     "data": {
      "text/plain": [
       "22"
      ]
     },
     "execution_count": 44,
     "metadata": {},
     "output_type": "execute_result"
    }
   ],
   "source": [
    "len(ts)"
   ]
  },
  {
   "cell_type": "code",
   "execution_count": 11,
   "metadata": {},
   "outputs": [],
   "source": [
    "import re\n",
    "\n",
    "def minus_one(match):\n",
    "    '''\n",
    "    Helper function that is used in the regular expression substitution.\n",
    "    '''\n",
    "    # Extract the mached string from the matched object\n",
    "    match = match.group(0)\n",
    "    # remove square brackets\n",
    "    match = match[1:-1]\n",
    "    # Cast to integer\n",
    "    match = int(match)    \n",
    "    # Minus one\n",
    "    match -= 1\n",
    "    # Add brackets again\n",
    "    match = f'[{match}]'\n",
    "    # Return result\n",
    "    return match\n",
    "\n",
    "# Read the original ODE file\n",
    "with open('src/odes_test1.py', 'r') as file:\n",
    "    content = file.read()\n",
    "\n",
    "# Substitute every number between square brackets with that number minus one\n",
    "content_new = re.sub('\\[\\d+\\]', minus_one, content)\n",
    "\n",
    "# Write the new ODE file\n",
    "with open('./src/odes_test1_new.py', 'w') as file:\n",
    "    file.write(content_new)"
   ]
  }
 ],
 "metadata": {
  "kernelspec": {
   "display_name": "magritte",
   "language": "python",
   "name": "python3"
  },
  "language_info": {
   "codemirror_mode": {
    "name": "ipython",
    "version": 3
   },
   "file_extension": ".py",
   "mimetype": "text/x-python",
   "name": "python",
   "nbconvert_exporter": "python",
   "pygments_lexer": "ipython3",
   "version": "3.9.13"
  },
  "orig_nbformat": 4
 },
 "nbformat": 4,
 "nbformat_minor": 2
}
