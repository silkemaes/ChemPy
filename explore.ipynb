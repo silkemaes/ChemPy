{
 "cells": [
  {
   "cell_type": "code",
   "execution_count": 1,
   "metadata": {},
   "outputs": [],
   "source": [
    "import numpy                as np\n",
    "import matplotlib.pyplot    as plt\n",
    "from astropy import units   as units\n",
    "from matplotlib             import rcParams, rc\n",
    "from scipy.interpolate  import interp1d\n",
    "from os import listdir\n",
    "from tqdm import tqdm\n",
    "\n",
    "\n",
    "# Change the matplotlib default parameters\n",
    "rcParams.update({'font.size':   8})\n",
    "rcParams.update({'figure.dpi': 120})\n",
    "\n",
    "outpath = '/lhome/silkem/ChemTorch/ChemTorch/out/'"
   ]
  },
  {
   "cell_type": "code",
   "execution_count": 2,
   "metadata": {},
   "outputs": [],
   "source": [
    "success = listdir(outpath+'success/')\n",
    "fail = listdir(outpath+'fail/')"
   ]
  },
  {
   "cell_type": "code",
   "execution_count": 8,
   "metadata": {},
   "outputs": [
    {
     "name": "stdout",
     "output_type": "stream",
     "text": [
      "6150\n"
     ]
    }
   ],
   "source": [
    "for i, dir in enumerate(success):\n",
    "    if dir == '2023-08-28 14:18:09.017178':\n",
    "        el = i\n",
    "    # else:\n",
    "    #     el = 'Not found'\n",
    "\n",
    "print(el)\n"
   ]
  },
  {
   "cell_type": "code",
   "execution_count": 3,
   "metadata": {},
   "outputs": [
    {
     "name": "stderr",
     "output_type": "stream",
     "text": [
      "100%|██████████| 41969/41969 [09:25<00:00, 74.21it/s] \n",
      "  8%|▊         | 1525/18465 [00:17<03:25, 82.33it/s]"
     ]
    }
   ],
   "source": [
    "fig, ax = plt.subplots(4,3, figsize=(16, 20))\n",
    "\n",
    "m_fail = '.'\n",
    "c_fail = 'firebrick'\n",
    "alpha = 0.5\n",
    "\n",
    "dt = 0\n",
    "\n",
    "for i in tqdm(range(len(fail))):\n",
    "    input  = np.load(outpath+'fail/'+fail[i]+'/input.npy')\n",
    "    tictoc = np.load(outpath+'fail/'+fail[i]+'/tictoc.npy')\n",
    "\n",
    "   \n",
    "    ## parameter space\n",
    "    ax[0,0].plot(input[0], input[1], color = c_fail, marker = m_fail, alpha = alpha)\n",
    "    ax[1,0].plot(input[0], input[1], color = c_fail, marker = m_fail, alpha = alpha)\n",
    "    ax[2,0].plot(input[0], input[1], color = c_fail, marker = m_fail, alpha = alpha)\n",
    "    ax[3,0].plot(input[0], input[1], color = c_fail, marker = m_fail, alpha = alpha)\n",
    "\n",
    "    ## density\n",
    "    ax[0,1].plot(input[-1],input[0], color = c_fail, marker = m_fail, alpha = alpha)\n",
    "    ax[0,2].plot(tictoc[0],input[0], color = c_fail, marker = m_fail, alpha = alpha)\n",
    "\n",
    "    ## temperature\n",
    "    ax[1,1].plot(input[-1],input[1], color = c_fail, marker = m_fail, alpha = alpha)\n",
    "    ax[1,2].plot(tictoc[0],input[1], color = c_fail, marker = m_fail, alpha = alpha)\n",
    "\n",
    "    ## delta\n",
    "    ax[2,1].plot(input[-1],input[2], color = c_fail, marker = m_fail, alpha = alpha)\n",
    "    ax[2,2].plot(tictoc[0],input[2], color = c_fail, marker = m_fail, alpha = alpha)\n",
    "\n",
    "    ## Av\n",
    "    ax[3,1].plot(input[-1],input[3], color = c_fail, marker = m_fail, alpha = alpha)\n",
    "    ax[3,2].plot(tictoc[0],input[3], color = c_fail, marker = m_fail, alpha = alpha)\n",
    "\n",
    "\n",
    "m_suc = '.'\n",
    "c_suc = 'green'\n",
    "\n",
    "for i in tqdm(range(len(success))):\n",
    "    input  = np.load(outpath+'success/'+success[i]+'/input.npy')\n",
    "    tictoc = np.load(outpath+'success/'+success[i]+'/tictoc.npy')\n",
    "\n",
    "\n",
    "    if i < 6150:\n",
    "        c_suc = 'green'\n",
    "    elif i >= 6150:\n",
    "        c_suc = 'royalblue'\n",
    "    \n",
    "    ## parameter space\n",
    "    ax[0,0].plot(input[0], input[1], color = c_suc, marker = m_suc, alpha = alpha)\n",
    "    ax[1,0].plot(input[0], input[1], color = c_suc, marker = m_suc, alpha = alpha)\n",
    "    ax[2,0].plot(input[0], input[1], color = c_suc, marker = m_suc, alpha = alpha)\n",
    "    ax[3,0].plot(input[0], input[1], color = c_suc, marker = m_suc, alpha = alpha)\n",
    "\n",
    "    ## density\n",
    "    ax[0,1].plot(input[-1],input[0], color = c_suc, marker = m_suc, alpha = alpha)\n",
    "    ax[0,2].plot(tictoc[0],input[0], color = c_suc, marker = m_suc, alpha = alpha)\n",
    "\n",
    "    ## temperature\n",
    "    ax[1,1].plot(input[-1],input[1], color = c_suc, marker = m_suc, alpha = alpha)\n",
    "    ax[1,2].plot(tictoc[0],input[1], color = c_suc, marker = m_suc, alpha = alpha)\n",
    "\n",
    "    ## delta\n",
    "    ax[2,1].plot(input[-1],input[2], color = c_suc, marker = m_suc, alpha = alpha)\n",
    "    ax[2,2].plot(tictoc[0],input[2], color = c_suc, marker = m_suc, alpha = alpha)\n",
    "\n",
    "    ## Av\n",
    "    ax[3,1].plot(input[-1],input[3], color = c_suc, marker = m_suc, alpha = alpha)\n",
    "    ax[3,2].plot(tictoc[0],input[3], color = c_suc, marker = m_suc, alpha = alpha)\n",
    "\n",
    "\n",
    "for ax_row in ax:\n",
    "    for axs in ax_row:\n",
    "        axs.set_xscale('log')\n",
    "        axs.set_yscale('log')    \n",
    "        axs.grid(True)\n",
    "\n",
    "for i in np.arange(4):\n",
    "    ax[i,0].set_xlabel('num. density [$cm^{-3}$]')\n",
    "    ax[i,0].set_ylabel('temp [K]')\n",
    "    ax[i,1].set_xlabel('dt [s]')\n",
    "    ax[i,2].set_xlabel('solve time [s]')\n",
    "\n",
    "\n",
    "## density\n",
    "ax[0,1].set_ylabel('num. density [$cm^{-3}$]')\n",
    "ax[0,2].set_ylabel('num. density [$cm^{-3}$]')\n",
    "\n",
    "## temperature\n",
    "ax[1,1].set_ylabel('temp [K]')\n",
    "ax[1,2].set_ylabel('temp [K]')\n",
    "\n",
    "## delta\n",
    "ax[2,1].set_ylabel('$\\\\delta$')\n",
    "ax[2,2].set_ylabel('$\\\\delta$')\n",
    "\n",
    "## Av\n",
    "ax[3,1].set_ylabel('Av')\n",
    "ax[3,2].set_ylabel('Av')\n",
    "\n",
    "plt.show()\n",
    "    "
   ]
  },
  {
   "cell_type": "code",
   "execution_count": null,
   "metadata": {},
   "outputs": [],
   "source": [
    "## plotting solve time via colormap\n",
    "\n",
    "fig, ax = plt.subplots(1,2, gridspec_kw={'width_ratios': [18,1]},figsize=(10, 8))\n",
    "\n",
    "for i,dir in enumerate(success):\n",
    "    input  = np.load(outpath+'success/'+dir+'/input.npy' )\n",
    "    tictoc = np.load(outpath+'success/'+dir+'/tictoc.npy')\n",
    "\n",
    "    if i < 6150:\n",
    "        c_suc = 'green'\n",
    "    elif i >= 6150:\n",
    "        c_suc = 'royalblue'\n",
    "\n",
    "\n",
    "    ax[0].plot(input[0], input[1], color = c_suc, marker = m_suc, alpha = alpha)\n",
    "\n"
   ]
  }
 ],
 "metadata": {
  "kernelspec": {
   "display_name": "mace",
   "language": "python",
   "name": "python3"
  },
  "language_info": {
   "codemirror_mode": {
    "name": "ipython",
    "version": 3
   },
   "file_extension": ".py",
   "mimetype": "text/x-python",
   "name": "python",
   "nbconvert_exporter": "python",
   "pygments_lexer": "ipython3",
   "version": "3.9.16"
  },
  "orig_nbformat": 4
 },
 "nbformat": 4,
 "nbformat_minor": 2
}
