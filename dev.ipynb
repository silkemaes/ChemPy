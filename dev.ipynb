{
 "cells": [
  {
   "cell_type": "code",
   "execution_count": 1,
   "metadata": {},
   "outputs": [],
   "source": [
    "import numpy             as np\n",
    "import matplotlib.pyplot as plt\n",
    "import tqdm\n",
    "import os\n",
    "\n",
    "from matplotlib          import rcParams, rc\n",
    "# Change the matplotlib default parameters\n",
    "# rcParams.update({'font.size':   12})\n",
    "rcParams.update({'figure.dpi': 200})\n",
    "# rc('font', family='serif')\n",
    "# rc('text', usetex=True)\n",
    "\n",
    "from astropy import units as units\n",
    "\n",
    "from src.ode.acodes     import ODE\n",
    "from src.rates          import initialise_abs, calculate_rates\n",
    "from src.input          import setinput, getcst\n",
    "\n",
    "from scipy.integrate    import solve_ivp\n",
    "from astropy            import constants"
   ]
  },
  {
   "cell_type": "markdown",
   "metadata": {},
   "source": [
    "### Physical constants"
   ]
  },
  {
   "cell_type": "code",
   "execution_count": 40,
   "metadata": {},
   "outputs": [],
   "source": [
    "## constants\n",
    "kB, mH, rGr, nGr, stckH, AUV_AV = getcst()\n",
    "\n",
    "## input values physics\n",
    "ρ, T, δ, Av, chemtype = setinput()\n",
    "\n",
    "## input chemistry\n",
    "chemtype = 'C'\n",
    "\n",
    "## calculate H accretion on dust\n",
    "Haccr = stckH *np.pi*(rGr**2.0)*ρ*nGr*(8.0*kB*T/(np.pi*mH))**0.5\n",
    "\n",
    "yr_to_sec = units.year.to('s')         ## year in seconds"
   ]
  },
  {
   "cell_type": "code",
   "execution_count": 38,
   "metadata": {},
   "outputs": [
    {
     "name": "stdout",
     "output_type": "stream",
     "text": [
      "['### Inputfile TorchChem ###\\n', '### ------------------- ###\\n', '\\n', '## Use : to split input to create specific models.\\n', '## Use ; to cross all input values.\\n', '\\n', '\\n', '## --\\n', '\\n', '# density [Msol/yr]\\n', 'dens = 1e-6 ; 1e-5\\n', '\\n', '# temperature [K]\\n', 'temp = 2000\\n', '\\n', '# overall dilution of the radiation field\\n', 'delta = 1\\n', '\\n', '# species-specific extinction (connected to optical depth)\\n', 'Av = 1\\n', '\\n', '## --']\n",
      "['1e-6', ';', '1e-5']\n",
      "['2000']\n",
      "combine\n"
     ]
    }
   ],
   "source": [
    "'''\n",
    "TODO \n",
    "om te vermijden dat er kei veel moet geloopt worden over elke lijst van elke input parameter, \n",
    "kan er gesplit worden gewoon op spatie, en dan een ander keyword meegeven om te beslissen of alle\n",
    "params gecombineerd worden, of dat het per model is.\n",
    "\n",
    "'''\n",
    "\n",
    "\n",
    "\n",
    "infile = '/lhome/silkem/ChemTorch/ChemTorch/input/input.txt'\n",
    "\n",
    "filelines = list()\n",
    "\n",
    "with open(infile, 'r') as f:\n",
    "    lines = f.readlines()\n",
    "    \n",
    "\n",
    "print(lines)\n",
    "\n",
    "\n",
    "for i in range(len(lines)):\n",
    "    lines[i]=lines[i].replace(' \\n', '')\n",
    "    lines[i]=lines[i].replace('\\n', '')\n",
    "    lines[i]=lines[i].split(' ')\n",
    "\n",
    "    if lines[i][0] == 'dens':\n",
    "        dens_idx = i\n",
    "        dens_line = lines[i][2:]\n",
    "\n",
    "    if lines[i][0] == 'temp':\n",
    "        temp_idx = i\n",
    "        temp_line = lines[i][2:]\n",
    "\n",
    "    if lines[i][0] == 'delta':\n",
    "        delta_idx = i\n",
    "        delta_line = lines[i][2:]\n",
    "\n",
    "    if lines[i][0] == 'Av':\n",
    "        Av_idx = i\n",
    "        Av_line = lines[i][2:]\n",
    "\n",
    "\n",
    "print(dens_line)\n",
    "print(temp_line)\n",
    "\n",
    "if len(dens_line) > 1 and dens_line[1] == ':':\n",
    "    type = 'single'\n",
    "\n",
    "if len(dens_line) > 1 and dens_line[1] == ';':\n",
    "    type = 'combine'\n",
    "\n",
    "else: type = 'none'\n",
    "\n",
    "print(type)\n",
    "\n",
    "input = dict()"
   ]
  },
  {
   "cell_type": "markdown",
   "metadata": {},
   "source": [
    "### Three body reactions"
   ]
  },
  {
   "cell_type": "code",
   "execution_count": 2,
   "metadata": {},
   "outputs": [],
   "source": [
    "def read_rate_file():\n",
    "\n",
    "    loc = 'rates/rate16_IP_2330K_AP_6000K.rates'\n",
    "\n",
    "    rates = dict()\n",
    "    with open(loc, 'r') as f:\n",
    "        lines = f.readlines()\n",
    "        for i in range(len(lines)):\n",
    "            line = lines[i].split(':')\n",
    "            rates[int(line[0])] = line[1:]\n",
    "    \n",
    "    type = list()\n",
    "    no = list()\n",
    "    α = np.zeros(len(rates))\n",
    "    β = np.zeros(len(rates))\n",
    "    γ = np.zeros(len(rates))\n",
    "    for nb in rates:\n",
    "        no.append(nb)\n",
    "        type.append(str(rates[nb][0]))\n",
    "        α[nb-1] = float(rates[nb][8])\n",
    "        β[nb-1] = float(rates[nb][9])\n",
    "        γ[nb-1] = float(rates[nb][10])\n",
    "\n",
    "    return rates, no, type, α, β, γ"
   ]
  },
  {
   "cell_type": "code",
   "execution_count": 1,
   "metadata": {},
   "outputs": [],
   "source": [
    "# Read the rates file and return the rate coefficients per reaction: \n",
    "#               reaction no.:type:R1:R2:P1:P2:P3:P4:NE:α : β : γ: Tl :Tu:ST:ACC:REF\n",
    "# indices                 0    1  2  3  4  5  6  7  8  9  10  11  12  13 14 15 "
   ]
  },
  {
   "cell_type": "code",
   "execution_count": 63,
   "metadata": {},
   "outputs": [],
   "source": [
    "rates, no, type, α, β, γ = read_rate_file()"
   ]
  },
  {
   "cell_type": "code",
   "execution_count": 4,
   "metadata": {},
   "outputs": [],
   "source": [
    "def read_specs_file(chemtype):\n",
    "\n",
    "    loc = 'rates/rate16_IP_6000K_'+chemtype+'rich_mean_Htot.specs'\n",
    "\n",
    "    # specs = dict()\n",
    "\n",
    "    specs = np.loadtxt(loc, skiprows=1,   max_rows=466, usecols=(1), dtype=str)\n",
    "    consv = np.loadtxt(loc, skiprows=468, max_rows=2  , usecols=(1), dtype=str)\n",
    "    parnt = np.loadtxt(loc, skiprows=471   , usecols= (0,1), dtype=str)\n",
    "    \n",
    "\n",
    "    return specs, (parnt).T, consv"
   ]
  },
  {
   "cell_type": "markdown",
   "metadata": {},
   "source": [
    "specs, parnt, consv = read_specs_file('C')"
   ]
  },
  {
   "cell_type": "markdown",
   "metadata": {},
   "source": [
    "### CO self-shielding (Visser et al. 2009)"
   ]
  },
  {
   "cell_type": "code",
   "execution_count": 83,
   "metadata": {},
   "outputs": [],
   "source": [
    "from pathlib import Path\n",
    "\n",
    "\n",
    "def COshield_rewrite(loc):\n",
    "    print(loc)\n",
    "\n",
    "    ## Read file\n",
    "    with open(loc, 'r') as f:\n",
    "        lines = f.readlines()\n",
    "    for i in range(len(lines)):                 ## remove '\\n'\n",
    "        lines[i]=lines[i].replace('\\n', '')\n",
    "\n",
    "\n",
    "    ## Retrieve values for N(H2) and N(CO)\n",
    "    idx_H2 = lines.index('N(H2)')\n",
    "    idx_CO = lines.index('N(12CO)')\n",
    "    idx_sh = lines.index('12C16O')\n",
    "    CO = list()\n",
    "    for i in range(idx_CO+1, idx_H2):\n",
    "        CO.append(lines[i])\n",
    "    H2 = list()\n",
    "    for i in range(idx_H2+1, idx_sh):\n",
    "        H2.append(lines[i])\n",
    "\n",
    "    ## get shielding rates in convenient format\n",
    "    shield = list()\n",
    "    row = ''\n",
    "    for i in range(idx_sh+1, len(lines)-1):\n",
    "        # print(i,len(lines))\n",
    "        if i == len(lines)-2:\n",
    "            # print('last')\n",
    "            row = row + lines[i] + lines[i+1]\n",
    "            shield.append(row)\n",
    "            row = ''\n",
    "        elif len(lines[i]) >= len(lines[i+1]):\n",
    "            row = row + lines[i]\n",
    "        else:\n",
    "            row = row + lines[i]\n",
    "            shield.append(row)\n",
    "            row = ''\n",
    "\n",
    "    ## write out again in convenient form\n",
    "    with open(loc, 'w') as f:\n",
    "        for i in range(idx_CO):\n",
    "            f.write(lines[i]+'\\n')\n",
    "        f.write('\\n')\n",
    "        f.write('CO shielding rates     (for parameters/values rows & columns: check legend file)\\n')\n",
    "        for row in shield:\n",
    "            f.write(row+'\\n')\n",
    "\n",
    "    legend = './shielding/CO/legend.txt'\n",
    "    with open(legend, 'w') as f:\n",
    "        f.write('Legend of CO shielding tables\\n')\n",
    "        f.write('\\n')\n",
    "        f.write('N(CO) - rows       N(H2) - columns\\n')\n",
    "        for i in range(len(H2)):\n",
    "            f.write(CO[i]+'     '+H2[i]+'\\n')\n",
    "        for i in range(len(H2), len(CO)):\n",
    "            f.write(CO[i]+'\\n')\n",
    "\n",
    "    return\n",
    "\n",
    "\n",
    "\n",
    "def N2shield_rewrite(loc):\n",
    "    print(loc)\n",
    "\n",
    "    ## Read file\n",
    "    with open(loc, 'r') as f:\n",
    "        lines = f.readlines()\n",
    "    for i in range(len(lines)):                 ## remove '\\n'\n",
    "        lines[i]=lines[i].replace('\\n', '')\n",
    "\n",
    "\n",
    "    ## Retrieve values for N(H2) and N(N2)\n",
    "    idx_H2 = lines.index('N(H2)')\n",
    "    idx_N2 = lines.index('N(14N2)')\n",
    "    idx_sh = lines.index('14N2')\n",
    "    idx_stop = lines.index('14N15N')\n",
    "    N2 = list()\n",
    "    for i in range(idx_N2+1, idx_H2):\n",
    "        N2.append(lines[i])\n",
    "    H2 = list()\n",
    "    for i in range(idx_H2+1, idx_sh):\n",
    "        H2.append(lines[i])\n",
    "\n",
    "    ## get shielding rates in convenient format\n",
    "    shield = list()\n",
    "    for i in range(idx_sh+1, idx_stop):\n",
    "        shield.append(lines[i])\n",
    "        \n",
    "    ## write out again in convenient form\n",
    "    with open(loc, 'w') as f:\n",
    "        for i in range(idx_N2):\n",
    "            f.write(lines[i]+'\\n')\n",
    "        f.write('\\n')\n",
    "        f.write('N2 shielding rates     (for parameters/values rows & columns: check N2 legend file)\\n')\n",
    "        for row in shield:\n",
    "            f.write(row+'\\n')\n",
    "\n",
    "    legend = './shielding/N2/legend.txt'\n",
    "    with open(legend, 'w') as f:\n",
    "        f.write('Legend of N2 shielding tables\\n')\n",
    "        f.write('\\n')\n",
    "        f.write('N(N2) - rows       N(H2) - columns\\n')\n",
    "        for i in range(len(H2)):\n",
    "            f.write(N2[i]+'     '+H2[i]+'\\n')\n",
    "        for i in range(len(H2), len(N2)):\n",
    "            f.write(N2[i]+'\\n')\n",
    "\n",
    "    return\n",
    " \n"
   ]
  },
  {
   "cell_type": "code",
   "execution_count": 46,
   "metadata": {},
   "outputs": [],
   "source": [
    "def read_shielding(loc, spec):\n",
    "    '''\n",
    "    Read in shielding rates from tables.\n",
    "    '''\n",
    "    shielding = np.loadtxt(loc, skiprows=9, dtype=np.float64)\n",
    "    leg = './shielding/'+spec+'/legend.txt'\n",
    "\n",
    "    spec = np.loadtxt(leg, skiprows = 3, dtype = np.float64, usecols = (0))\n",
    "    H2 = np.loadtxt(leg, skiprows = 3, dtype = np.float64, usecols = (1), max_rows=shielding.shape[0])\n",
    "\n",
    "    return shielding, spec, H2\n",
    "\n",
    "## retrieve shielding rate, given N_CO & N_H2\n",
    "\n",
    "def find_closest_lin(list, x, spec):\n",
    "    '''\n",
    "    Find index of list for the value closest to x. \\n\n",
    "    This function is specific for a loglinear 'list', \\n with the first element (index 0) diverging from this relation.\n",
    "    '''\n",
    "\n",
    "    ## Consider log space.\n",
    "    list = np.log10(list)\n",
    "    x    = np.log10(x)\n",
    "\n",
    "    if spec == 'CO':\n",
    "        ## Exeption if x is smaller than the first value.\n",
    "        if x < list[1]:\n",
    "            if x < list[1]/2:\n",
    "                return 0\n",
    "            else:\n",
    "                return 1\n",
    "        ## Exeption when x is larger than the last value.\n",
    "        elif x >= list[-1]:\n",
    "            return int(len(list)-1)\n",
    "        ## All values in between.\n",
    "        else:\n",
    "            list = list[1:]\n",
    "            min = np.min((list))\n",
    "            max = np.max((list))\n",
    "\n",
    "            idx = np.round((x-min)*(max-min)**(-1)*(len(list)-1))\n",
    "\n",
    "            return int(idx+1)\n",
    "    \n",
    "    elif spec == 'N2':\n",
    "        ## Exeption when x is larger than the last value.\n",
    "        if x >= list[-1]:\n",
    "            return int(len(list)-1)\n",
    "        ## All values in between.\n",
    "        else:\n",
    "            min = np.min((list))\n",
    "            max = np.max((list))\n",
    "\n",
    "            idx = np.round((x-min)*(max-min)**(-1)*(len(list)-1))\n",
    "\n",
    "            return int(idx)\n",
    "        \n",
    "\n",
    "def retrieve_rate(n_i, Av, T, spec):\n",
    "    '''\n",
    "    Retrieve the shielding rate, corresponding best to the current modelling input parameters. \\n\n",
    "    Input: \\n\n",
    "        - N         = target column density of the specific species (CO or N2)\\n\n",
    "        - N_H2      = target column density of H2 \\n\n",
    "        - shielding = shielding table in 2D-np.array \\n\n",
    "        - spec      = list with column densities from species \\n\n",
    "        - H2        = list with column densities from H2\n",
    "    '''\n",
    "\n",
    "    shielding, lgd_spec, lgd_H2 = read_shielding(dir_shielding+'CO/'+loc, 'CO')\n",
    "\n",
    "    N_H2 = Av * 1.87e21\n",
    "    N = N_H2 * n_i[spec] \n",
    "    \n",
    "    idx = find_closest_lin(lgd_spec, N, spec)\n",
    "    idx_H2 = find_closest_lin(lgd_H2, N_H2, spec)\n",
    "   \n",
    "    shieldrate = shielding[idx_H2, idx]\n",
    "\n",
    "    return shieldrate\n",
    "\n",
    "\n",
    "def get_shield_table(T, spec):\n",
    "    '''\n",
    "    Function to select the most appropriate sheilding table.\n",
    "    '''\n",
    "    T_list_CO = np.array([5,20,50,100])\n",
    "    T_list_N2 = np.array([10,30,50,100,1000])\n",
    "\n",
    "    if spec == 'CO':\n",
    "        list = T_list_CO\n",
    "    elif spec == 'N2':\n",
    "        list= T_list_N2\n",
    "\n",
    "    idx = find_closest(list, T)\n",
    "    temp = list[idx]\n",
    "\n",
    "    return temp\n",
    "\n",
    "def find_closest(list, target):\n",
    "    idx = 0\n",
    "    for i in range(len(list)-1):\n",
    "        if np.abs(list[i+1]-target) <= np.abs(list[i]-target):\n",
    "            idx = i+1\n",
    "    return idx\n"
   ]
  },
  {
   "cell_type": "code",
   "execution_count": 57,
   "metadata": {},
   "outputs": [
    {
     "name": "stdout",
     "output_type": "stream",
     "text": [
      "4 100\n"
     ]
    }
   ],
   "source": [
    "target = 78\n",
    "list = np.array([1,4,29,40,100,500])\n",
    "\n",
    "idx = find_closest(list, target)\n",
    "\n",
    "print(idx,list[idx]) "
   ]
  },
  {
   "cell_type": "code",
   "execution_count": 5,
   "metadata": {},
   "outputs": [],
   "source": [
    "dir_shielding = './shielding/'"
   ]
  },
  {
   "cell_type": "code",
   "execution_count": 34,
   "metadata": {},
   "outputs": [
    {
     "name": "stdout",
     "output_type": "stream",
     "text": [
      "46 41\n",
      "3.875e-07\n"
     ]
    }
   ],
   "source": [
    "loc = 'shield.03.5.35-557-36.dat'\n",
    "\n",
    "COshielding, CO, H2 = read_shielding(dir_shielding+'CO/'+loc, 'CO')\n",
    "COrate = retrieve_rate(1.e17,2.e20, COshielding, CO, H2, 'CO')\n",
    "print(COrate)"
   ]
  },
  {
   "cell_type": "code",
   "execution_count": 35,
   "metadata": {},
   "outputs": [
    {
     "name": "stdout",
     "output_type": "stream",
     "text": [
      "26 30\n",
      "0.05326\n"
     ]
    }
   ],
   "source": [
    "loc = 'Tex_10K_bH2_3km.s-1_bH_5km.s-1_NH_1e+14cm-2.dat'\n",
    "N2shielding, N2, H2 = read_shielding(dir_shielding+'N2/'+loc, 'N2')\n",
    "Av = 0.05  \n",
    "n_i = 2.00E-05\n",
    "N2rate = retrieve_rate(n_i, Av, N2shielding, N2, H2, 'N2')\n",
    "print(N2rate)"
   ]
  },
  {
   "cell_type": "code",
   "execution_count": 36,
   "metadata": {},
   "outputs": [
    {
     "data": {
      "text/plain": [
       "[<matplotlib.lines.Line2D at 0x7f24ca870d00>]"
      ]
     },
     "execution_count": 36,
     "metadata": {},
     "output_type": "execute_result"
    },
    {
     "data": {
      "image/png": "[encoded data removed]",
      "text/plain": [
       "<Figure size 1280x960 with 1 Axes>"
      ]
     },
     "metadata": {},
     "output_type": "display_data"
    }
   ],
   "source": [
    "plt.plot(np.log10(CO), '-o')\n",
    "plt.plot(np.log10(H2), '-o')\n"
   ]
  },
  {
   "cell_type": "code",
   "execution_count": 58,
   "metadata": {},
   "outputs": [
    {
     "data": {
      "text/plain": [
       "[<matplotlib.lines.Line2D at 0x7f24ca541280>]"
      ]
     },
     "execution_count": 58,
     "metadata": {},
     "output_type": "execute_result"
    },
    {
     "data": {
      "image/png": "[encoded data removed]",
      "text/plain": [
       "<Figure size 1280x960 with 1 Axes>"
      ]
     },
     "metadata": {},
     "output_type": "display_data"
    }
   ],
   "source": [
    "plt.plot(np.log10(np.array([5, 20, 50, 100])), '-o')\n",
    "plt.plot(np.log10(np.array([10,30,50,100,1000])), '-o')"
   ]
  },
  {
   "cell_type": "code",
   "execution_count": 23,
   "metadata": {},
   "outputs": [],
   "source": [
    "def read_rate_file(rate):\n",
    "    '''\n",
    "    Read rates file (Rate12, UMIST database, including IP, AP, HNR - reactions) \\ \n",
    "    (McElroy et al., 2013, M. VdS' papers)\n",
    "    '''\n",
    "\n",
    "    loc = '/lhome/silkem/ChemTorch/ChemTorch/rates/rate'+str(rate)+'.rates'\n",
    "\n",
    "    rates = dict()\n",
    "    with open(loc, 'r') as f:\n",
    "        lines = f.readlines()\n",
    "        for i in range(len(lines)):\n",
    "            line = lines[i].split(':')\n",
    "            rates[int(line[0])] = line[1:]\n",
    "    \n",
    "    type = list()\n",
    "    α = np.zeros(len(rates))\n",
    "    β = np.zeros(len(rates))\n",
    "    γ = np.zeros(len(rates))\n",
    "    for nb in rates:\n",
    "        type.append(str(rates[nb][0]))\n",
    "        α[nb-1] = float(rates[nb][8])\n",
    "        β[nb-1] = float(rates[nb][9])\n",
    "        γ[nb-1] = float(rates[nb][10])\n",
    "\n",
    "    return rates, type, α, β, γ\n",
    "\n",
    "\n",
    "## Calculating the reaction rates\n",
    "\n",
    "def calculate_rates(T, δ, Av, rate):\n",
    "    '''\n",
    "    Calculate the reaction rate for all reactions.\n",
    "\n",
    "    First read in reaction rate file, from this, depending on the reaction type, \\ \n",
    "    the correct reaction rate is calculated.\n",
    "    '''\n",
    "\n",
    "    rates, type, α, β, γ = read_rate_file(rate)   \n",
    "\n",
    "    k = np.zeros(len(type))\n",
    "\n",
    "    for i in range(len(type)):\n",
    "        reaction = type[i]\n",
    "        if reaction == 'PH':\n",
    "            if rates[i+1][1] == 'CO':\n",
    "                print(i, rates[i+1][1])\n",
    "            elif rates[i+1][1] == 'N2':\n",
    "                print(i, rates[i+1][1])\n",
    "\n",
    "        if type[i] == 'CP':\n",
    "            k[i] = CP_rate(α[i]) \n",
    "        elif type[i] == 'CR':\n",
    "            k[i] = CR_rate(α[i], β[i], γ[i], T)\n",
    "        elif type[i] == 'PH':\n",
    "            if rates[i+1][1] == 'CO':\n",
    "                print(i, rates[i+1][1])\n",
    "            elif rates[i+1][1] == 'N2':\n",
    "                print(i, rates[i+1][1])\n",
    "            k[i] = photodissociation_rate(α[i], γ[i], δ, Av)\n",
    "        elif type[i] == 'IP':\n",
    "            k[i] = 0\n",
    "        elif type[i] == 'AP':\n",
    "            k[i] = 0\n",
    "        else:\n",
    "            k[i] = Arrhenius_rate(α[i], β[i], γ[i], T)\n",
    "\n",
    "    return k\n",
    "\n",
    "    ## Setting initial abundances\n",
    "def initialise_abs(chemtype, rate):\n",
    "    '''\n",
    "    This function sets the initial abundance of the species: \n",
    "\n",
    "    INPUT:\n",
    "        chemtype = chemistry type: 'C' of 'O'\n",
    "\n",
    "    RETURN:\n",
    "        - abs       = abundances of non-conserved species \n",
    "        - abs_consv = abundances of conserved species \n",
    "        - specs     = array with species names \n",
    "        (The order of specs corresponds to the order of abs)\n",
    "    '''\n",
    "    specs, parnt, consv = read_specs_file(chemtype, rate)\n",
    "\n",
    "    ## Initial abundances of the non-conserved species\n",
    "    abs = np.zeros(len(specs),dtype=np.float64)\n",
    "\n",
    "    for i in range(len(specs)):\n",
    "        for j in range(parnt.shape[1]):\n",
    "            if specs[i] == parnt[0][j]:\n",
    "                abs[i] = parnt[1][j]\n",
    "\n",
    "        if specs[i] == 'CO':\n",
    "            nCO = abs[i]\n",
    "        elif specs[i] == 'N2':\n",
    "            nN2 = abs[i]\n",
    "\n",
    "    ## Initialise abundances of the conserved species\n",
    "    abs_consv = np.zeros(len(consv))\n",
    "    abs_consv[1] = 0.5                  ## H2\n",
    "\n",
    "    return abs, abs_consv, specs, nCO, nN2"
   ]
  },
  {
   "cell_type": "code",
   "execution_count": 24,
   "metadata": {},
   "outputs": [
    {
     "name": "stdout",
     "output_type": "stream",
     "text": [
      "5893 CO\n",
      "5963 N2\n"
     ]
    }
   ],
   "source": [
    "k = calculate_rates(1, 1, 1, 13)"
   ]
  },
  {
   "cell_type": "markdown",
   "metadata": {},
   "source": [
    "### Outflow density"
   ]
  },
  {
   "cell_type": "code",
   "execution_count": 51,
   "metadata": {},
   "outputs": [],
   "source": [
    "def density(Mdot,v, r):\n",
    "    '''\n",
    "    Input \n",
    "        - mass-loss rate (Mdot) in units of Msol/yr\n",
    "        - outflow velocity (v) in units of km/s\n",
    "        - radius (r): location of the outflow, inputs of cm\n",
    "    Output\n",
    "        - density in units of g/cm^3\n",
    "    '''\n",
    "    # r    = 1e18 #* unt.cgs.cm                       # cm\n",
    "    Mdot = Mdot * Msunyr                            # gram/s\n",
    "    v    = v    * cms                               # cm/s\n",
    "\n",
    "\n",
    "    dens = Mdot / (4*pi * v * r**2 * mu * mH)       # g/cm^3\n",
    "\n",
    "    # dens = dens * g_to_kg * cm_to_m**(-3)           # kg/m^3\n",
    "\n",
    "    return dens"
   ]
  },
  {
   "cell_type": "code",
   "execution_count": 52,
   "metadata": {},
   "outputs": [
    {
     "name": "stdout",
     "output_type": "stream",
     "text": [
      "1.13E+07\n",
      "7.51E+05\n",
      "1.13E+05\n",
      "2.25E+04\n"
     ]
    }
   ],
   "source": [
    "r = 1.e15\n",
    "print('{:.2E}'.format(density(1.e-5, 10., r)))\n",
    "print('{:.2E}'.format(density(1.e-6, 15., r)))\n",
    "print('{:.2E}'.format(density(1.e-7, 10., r)))\n",
    "print('{:.2E}'.format(density(1.e-8, 5. , r)))"
   ]
  }
 ],
 "metadata": {
  "interpreter": {
   "hash": "4cfec3ae79f839ed35c55406a3ad8c3c1082e0129819951cbf0a51bf47981102"
  },
  "kernelspec": {
   "display_name": "Python 3.9.16 ('mace')",
   "language": "python",
   "name": "python3"
  },
  "language_info": {
   "codemirror_mode": {
    "name": "ipython",
    "version": 3
   },
   "file_extension": ".py",
   "mimetype": "text/x-python",
   "name": "python",
   "nbconvert_exporter": "python",
   "pygments_lexer": "ipython3",
   "version": "3.9.16"
  },
  "orig_nbformat": 4
 },
 "nbformat": 4,
 "nbformat_minor": 2
}
