{
 "cells": [
  {
   "cell_type": "code",
   "execution_count": 1,
   "metadata": {},
   "outputs": [],
   "source": [
    "import numpy as np\n",
    "from astropy import constants as cst\n",
    "import sys\n",
    "sys.path.insert(1, '/lhome/silkem/ChemTorch/ChemTorch/src')\n",
    "import rates as r\n",
    "import odes as o"
   ]
  },
  {
   "cell_type": "markdown",
   "metadata": {},
   "source": [
    "### Physical constants"
   ]
  },
  {
   "cell_type": "code",
   "execution_count": 2,
   "metadata": {},
   "outputs": [],
   "source": [
    "## Physical constants\n",
    "kB = cst.k_B.cgs.value          ## Boltzmann constant [erg/K]\n",
    "mH = cst.u.to('g').value        ## mass H atom = atomic mass unit [g]\n",
    "\n",
    "## Other constants\n",
    "pi = np.pi\n",
    "\n",
    "\n",
    "#-- GRAIN PARAMETERS FOR H2 FORMATION AND CR IONISATION\n",
    "rGr = 1.0E-5        ## grain radius [cm]\n",
    "nGr = 1.5e-12       ## grain number density/H2 (assuming gas/dust = 200, rho = 3.5 g/cm^3)\n",
    "w = 0.5             ## grain albedo\n",
    "AUV_AV = 4.65\n",
    "stckH = 0.3         ## sticking coefficient for H atoms"
   ]
  },
  {
   "cell_type": "code",
   "execution_count": 6,
   "metadata": {},
   "outputs": [
    {
     "name": "stdout",
     "output_type": "stream",
     "text": [
      "1.380649e-16\n"
     ]
    }
   ],
   "source": [
    "print(cst.k_B.cgs.value)"
   ]
  },
  {
   "cell_type": "code",
   "execution_count": 38,
   "metadata": {},
   "outputs": [
    {
     "name": "stdout",
     "output_type": "stream",
     "text": [
      "['### Inputfile TorchChem ###\\n', '### ------------------- ###\\n', '\\n', '## Use : to split input to create specific models.\\n', '## Use ; to cross all input values.\\n', '\\n', '\\n', '## --\\n', '\\n', '# density [Msol/yr]\\n', 'dens = 1e-6 ; 1e-5\\n', '\\n', '# temperature [K]\\n', 'temp = 2000\\n', '\\n', '# overall dilution of the radiation field\\n', 'delta = 1\\n', '\\n', '# species-specific extinction (connected to optical depth)\\n', 'Av = 1\\n', '\\n', '## --']\n",
      "['1e-6', ';', '1e-5']\n",
      "['2000']\n",
      "combine\n"
     ]
    }
   ],
   "source": [
    "'''\n",
    "TODO \n",
    "om te vermijden dat er kei veel moet geloopt worden over elke lijst van elke input parameter, \n",
    "kan er gesplit worden gewoon op spatie, en dan een ander keyword meegeven om te beslissen of alle\n",
    "params gecombineerd worden, of dat het per model is.\n",
    "\n",
    "'''\n",
    "\n",
    "\n",
    "\n",
    "infile = '/lhome/silkem/ChemTorch/ChemTorch/input/input.txt'\n",
    "\n",
    "filelines = list()\n",
    "\n",
    "with open(infile, 'r') as f:\n",
    "    lines = f.readlines()\n",
    "    \n",
    "\n",
    "print(lines)\n",
    "\n",
    "\n",
    "for i in range(len(lines)):\n",
    "    lines[i]=lines[i].replace(' \\n', '')\n",
    "    lines[i]=lines[i].replace('\\n', '')\n",
    "    lines[i]=lines[i].split(' ')\n",
    "\n",
    "    if lines[i][0] == 'dens':\n",
    "        dens_idx = i\n",
    "        dens_line = lines[i][2:]\n",
    "\n",
    "    if lines[i][0] == 'temp':\n",
    "        temp_idx = i\n",
    "        temp_line = lines[i][2:]\n",
    "\n",
    "    if lines[i][0] == 'delta':\n",
    "        delta_idx = i\n",
    "        delta_line = lines[i][2:]\n",
    "\n",
    "    if lines[i][0] == 'Av':\n",
    "        Av_idx = i\n",
    "        Av_line = lines[i][2:]\n",
    "\n",
    "\n",
    "print(dens_line)\n",
    "print(temp_line)\n",
    "\n",
    "if len(dens_line) > 1 and dens_line[1] == ':':\n",
    "    type = 'single'\n",
    "\n",
    "if len(dens_line) > 1 and dens_line[1] == ';':\n",
    "    type = 'combine'\n",
    "\n",
    "else: type = 'none'\n",
    "\n",
    "print(type)\n",
    "\n",
    "input = dict()"
   ]
  },
  {
   "cell_type": "markdown",
   "metadata": {},
   "source": [
    "### Three body reactions"
   ]
  },
  {
   "cell_type": "code",
   "execution_count": 136,
   "metadata": {},
   "outputs": [],
   "source": [
    "def read_rate_file():\n",
    "\n",
    "    loc = 'rates/rate16_IP_2330K_AP_6000K.rates'\n",
    "\n",
    "    rates = dict()\n",
    "    with open(loc, 'r') as f:\n",
    "        lines = f.readlines()\n",
    "        for i in range(len(lines)):\n",
    "            line = lines[i].split(':')\n",
    "            rates[int(line[0])] = line[1:]\n",
    "    \n",
    "    type = list()\n",
    "    α = list()\n",
    "    β = list()\n",
    "    γ = list()\n",
    "    for rate in rates:\n",
    "        type.append((rates[rate][0]))\n",
    "        α.append(float(rates[rate][8]))\n",
    "        β.append(float(rates[rate][9]))\n",
    "        γ.append(float(rates[rate][10]))\n",
    "\n",
    "    return rates, type, np.array(α), np.array(β), np.array(γ)"
   ]
  },
  {
   "cell_type": "code",
   "execution_count": 104,
   "metadata": {},
   "outputs": [],
   "source": [
    "# Read the rates file and return the rate coefficients per reaction: \n",
    "#               reaction no.:type:R1:R2:P1:P2:P3:P4:NE:α : β : γ: Tl :Tu:ST:ACC:REF\n",
    "# indices                 0    1  2  3  4  5  6  7  8  9  10  11  12  13 14 15 "
   ]
  },
  {
   "cell_type": "code",
   "execution_count": 137,
   "metadata": {},
   "outputs": [],
   "source": [
    "rates, type, α, β, γ = read_rate_file()"
   ]
  },
  {
   "cell_type": "code",
   "execution_count": 140,
   "metadata": {},
   "outputs": [
    {
     "data": {
      "text/plain": [
       "(1.5e-08, 'DR')"
      ]
     },
     "execution_count": 140,
     "metadata": {},
     "output_type": "execute_result"
    }
   ],
   "source": [
    "no = 1004\n",
    "α[no-1], type[no-1]"
   ]
  },
  {
   "cell_type": "code",
   "execution_count": 127,
   "metadata": {},
   "outputs": [
    {
     "data": {
      "text/plain": [
       "['DR',\n",
       " 'C2H3+',\n",
       " 'e-',\n",
       " 'C2',\n",
       " 'H',\n",
       " 'H2',\n",
       " '',\n",
       " '2',\n",
       " '1.50e-08',\n",
       " '-0.84',\n",
       " '0.0',\n",
       " '50',\n",
       " '1000',\n",
       " 'L',\n",
       " 'A',\n",
       " '\"10.1051/0004-6361',\n",
       " '20020882\"',\n",
       " '\"06_3581D.notes\"',\n",
       " '2.87e-08',\n",
       " '-1.38',\n",
       " '0.0',\n",
       " '1000',\n",
       " '30000',\n",
       " 'L',\n",
       " 'A',\n",
       " '\"10.1051/0004-6361',\n",
       " '20020882\"',\n",
       " '\"06_3581D.notes\"',\n",
       " '\\n']"
      ]
     },
     "execution_count": 127,
     "metadata": {},
     "output_type": "execute_result"
    }
   ],
   "source": [
    "rates[1004]"
   ]
  },
  {
   "cell_type": "code",
   "execution_count": 37,
   "metadata": {},
   "outputs": [],
   "source": [
    "def read_specs_file(chemtype):\n",
    "\n",
    "    loc = 'rates/rate16_IP_6000K_'+chemtype+'rich_mean_Htot.specs'\n",
    "\n",
    "    # specs = dict()\n",
    "\n",
    "    specs = np.loadtxt(loc, skiprows=1,   max_rows=466, usecols=(1), dtype=str)\n",
    "    consv = np.loadtxt(loc, skiprows=468, max_rows=2  , usecols=(1), dtype=str)\n",
    "    parnt = np.loadtxt(loc, skiprows=471   , usecols= (0,1), dtype=str)\n",
    "    \n",
    "\n",
    "    return specs, (parnt).T, consv"
   ]
  },
  {
   "cell_type": "code",
   "execution_count": 38,
   "metadata": {},
   "outputs": [],
   "source": [
    "specs, parnt, consv = read_specs_file('C')"
   ]
  },
  {
   "cell_type": "code",
   "execution_count": 39,
   "metadata": {},
   "outputs": [
    {
     "data": {
      "text/plain": [
       "array([['He', 'CO', 'N2', 'CH4', 'NH3', 'H2S', 'HCP', 'H2O', 'C2H2',\n",
       "        'HCN', 'CS', 'SiC2', 'HCl', 'HF', 'C2H4', 'SiO', 'SiS'],\n",
       "       ['0.85E-1', '4.00E-04', '2.00E-05', '1.75E-06', '3.00E-08',\n",
       "        '2.00E-09', '1.25E-08', '1.275e-06', '2.19e-05', '2.045e-05',\n",
       "        '0.53e-05', '0.935e-05', '1.625e-07', '0.85e-08', '3.425e-08',\n",
       "        '2.51e-06', '2.99e-06']], dtype='<U9')"
      ]
     },
     "execution_count": 39,
     "metadata": {},
     "output_type": "execute_result"
    }
   ],
   "source": [
    "parnt"
   ]
  },
  {
   "cell_type": "markdown",
   "metadata": {},
   "source": [
    "### Calculating rates"
   ]
  },
  {
   "cell_type": "code",
   "execution_count": 5,
   "metadata": {},
   "outputs": [],
   "source": [
    "## input values physics\n",
    "ρ = 1e-6\n",
    "T = 2500.\n",
    "δ = 1.\n",
    "Av = 1.\n",
    "\n",
    "## input chemistry\n",
    "chemtype = 'C'\n",
    "\n",
    "## calculate H accretion on dust\n",
    "Haccr = stckH *pi*(rGr**2.0)*ρ*nGr*(8.0*kB*T/(pi*mH))**0.5"
   ]
  },
  {
   "cell_type": "code",
   "execution_count": 13,
   "metadata": {},
   "outputs": [],
   "source": [
    "def calculating_rates(T, δ, Av):\n",
    "\n",
    "    rates, type, α, β, γ = read_rate_file()\n",
    "\n",
    "    k = np.zeros(len(type))\n",
    "\n",
    "    for i in range(len(type)):\n",
    "        if type[i] == 'CP':\n",
    "            k[i] = r.CP_rate(α[i]) \n",
    "        if type[i] == 'CR':\n",
    "            k[i] = r.CR_rate(α[i], β[i], γ[i], T)\n",
    "        if type[i] == 'PH':\n",
    "            k[i] = r.photodissociation_rate(α[i], γ[i], δ, Av)\n",
    "        else:\n",
    "            k[i] = r.Arrhenius_rate(α[i], β[i], γ[i], T)\n",
    "\n",
    "    return k\n",
    "\n",
    "\n",
    "def initialise_abs(chemtype):\n",
    "    specs, parnt, consv = r.read_specs_file(chemtype)\n",
    "    # print(specs)\n",
    "    # print(parnt)\n",
    "\n",
    "    ## Initial abundances of the non-conserved species\n",
    "    Y = np.zeros(len(specs)+1)\n",
    "\n",
    "    for i in range(len(specs)):\n",
    "        for j in range(len(parnt)):\n",
    "            if specs[i] == parnt[0][j]:\n",
    "                Y[i+1] = parnt[1][j]\n",
    "        # if specs[i] == 'CO'\n",
    "        #     iCO = i\n",
    "\n",
    "    ## Initialise abundances of the conserved species\n",
    "    TOTAL = np.zeros(len(consv)+1)\n",
    "    TOTAL[2] = 0.5\n",
    "\n",
    "    return Y, TOTAL"
   ]
  },
  {
   "cell_type": "code",
   "execution_count": 14,
   "metadata": {},
   "outputs": [],
   "source": [
    "n, n_consv = initialise_abs(chemtype)"
   ]
  },
  {
   "cell_type": "code",
   "execution_count": 19,
   "metadata": {},
   "outputs": [
    {
     "data": {
      "text/plain": [
       "467"
      ]
     },
     "execution_count": 19,
     "metadata": {},
     "output_type": "execute_result"
    }
   ],
   "source": [
    "len(n)"
   ]
  },
  {
   "cell_type": "code",
   "execution_count": 21,
   "metadata": {},
   "outputs": [],
   "source": [
    "ndot = np.zeros(len(n))\n",
    "X    = np.zeros(len(n_consv))\n",
    "\n",
    "k = r.calculating_rates(T, δ, Av)"
   ]
  },
  {
   "cell_type": "code",
   "execution_count": 22,
   "metadata": {},
   "outputs": [
    {
     "data": {
      "text/plain": [
       "array([5.00000000e-10, 5.00000000e-10, 5.00000000e-10, ...,\n",
       "       9.90945073e-03, 9.99200320e-06, 9.99080423e-11])"
      ]
     },
     "execution_count": 22,
     "metadata": {},
     "output_type": "execute_result"
    }
   ],
   "source": [
    "k"
   ]
  },
  {
   "cell_type": "code",
   "execution_count": null,
   "metadata": {},
   "outputs": [],
   "source": [
    "X, ndot = o.ODE(n, n_consv, ndot, X, k, ρ, Haccr)"
   ]
  },
  {
   "cell_type": "code",
   "execution_count": 158,
   "metadata": {},
   "outputs": [
    {
     "data": {
      "text/plain": [
       "array([5.00000000e-10, 5.00000000e-10, 5.00000000e-10, ...,\n",
       "       9.90945073e-03, 9.99200320e-06, 9.99080423e-11])"
      ]
     },
     "execution_count": 158,
     "metadata": {},
     "output_type": "execute_result"
    }
   ],
   "source": [
    "k"
   ]
  }
 ],
 "metadata": {
  "interpreter": {
   "hash": "4cfec3ae79f839ed35c55406a3ad8c3c1082e0129819951cbf0a51bf47981102"
  },
  "kernelspec": {
   "display_name": "Python 3.9.16 ('mace')",
   "language": "python",
   "name": "python3"
  },
  "language_info": {
   "codemirror_mode": {
    "name": "ipython",
    "version": 3
   },
   "file_extension": ".py",
   "mimetype": "text/x-python",
   "name": "python",
   "nbconvert_exporter": "python",
   "pygments_lexer": "ipython3",
   "version": "3.9.16"
  },
  "orig_nbformat": 4
 },
 "nbformat": 4,
 "nbformat_minor": 2
}
