{
 "cells": [
  {
   "cell_type": "code",
   "execution_count": 61,
   "metadata": {},
   "outputs": [],
   "source": [
    "import numpy as np\n",
    "from astropy import constants as cst"
   ]
  },
  {
   "cell_type": "markdown",
   "metadata": {},
   "source": [
    "### Physical constants"
   ]
  },
  {
   "cell_type": "code",
   "execution_count": null,
   "metadata": {},
   "outputs": [],
   "source": [
    "## Physical constants\n",
    "kB = cst.k_B.cgs.value          ## Boltzmann constant [erg/K]\n",
    "mH = cst.u.to('g').value        ## mass H atom = atomic mass unit [g]\n",
    "\n",
    "## Other constants\n",
    "pi = np.pi\n",
    "\n",
    "\n",
    "#-- GRAIN PARAMETERS FOR H2 FORMATION AND CR IONISATION\n",
    "rGr = 1.0E-5        ## grain radius [cm]\n",
    "nGr = 1.5e-12       ## grain number density/H2 (assuming gas/dust = 200, rho = 3.5 g/cm^3)\n",
    "w = 0.5             ## grain albedo\n",
    "AUV_AV = 4.65\n",
    "stckH = 0.3         ## sticking coefficient for H atoms"
   ]
  },
  {
   "cell_type": "code",
   "execution_count": 6,
   "metadata": {},
   "outputs": [
    {
     "name": "stdout",
     "output_type": "stream",
     "text": [
      "1.380649e-16\n"
     ]
    }
   ],
   "source": [
    "print(cst.k_B.cgs.value)"
   ]
  },
  {
   "cell_type": "markdown",
   "metadata": {},
   "source": [
    "### Reading input file"
   ]
  },
  {
   "cell_type": "code",
   "execution_count": null,
   "metadata": {},
   "outputs": [],
   "source": [
    "def readinput(file):\n",
    "    \n",
    "\n",
    "    Haccr = stckH *pi*(rGr**2.0)*ρ*nGr*(8.0*kB*T/(pi*mH))**0.5\n",
    "    return ρ, T, δ, Av, Haccr"
   ]
  },
  {
   "cell_type": "code",
   "execution_count": 38,
   "metadata": {},
   "outputs": [
    {
     "name": "stdout",
     "output_type": "stream",
     "text": [
      "['### Inputfile TorchChem ###\\n', '### ------------------- ###\\n', '\\n', '## Use : to split input to create specific models.\\n', '## Use ; to cross all input values.\\n', '\\n', '\\n', '## --\\n', '\\n', '# density [Msol/yr]\\n', 'dens = 1e-6 ; 1e-5\\n', '\\n', '# temperature [K]\\n', 'temp = 2000\\n', '\\n', '# overall dilution of the radiation field\\n', 'delta = 1\\n', '\\n', '# species-specific extinction (connected to optical depth)\\n', 'Av = 1\\n', '\\n', '## --']\n",
      "['1e-6', ';', '1e-5']\n",
      "['2000']\n",
      "combine\n"
     ]
    }
   ],
   "source": [
    "'''\n",
    "TODO \n",
    "om te vermijden dat er kei veel moet geloopt worden over elke lijst van elke input parameter, \n",
    "kan er gesplit worden gewoon op spatie, en dan een ander keyword meegeven om te beslissen of alle\n",
    "params gecombineerd worden, of dat het per model is.\n",
    "\n",
    "'''\n",
    "\n",
    "\n",
    "\n",
    "infile = '/lhome/silkem/ChemTorch/ChemTorch/input/input.txt'\n",
    "\n",
    "filelines = list()\n",
    "\n",
    "with open(infile, 'r') as f:\n",
    "    lines = f.readlines()\n",
    "    \n",
    "\n",
    "print(lines)\n",
    "\n",
    "\n",
    "for i in range(len(lines)):\n",
    "    lines[i]=lines[i].replace(' \\n', '')\n",
    "    lines[i]=lines[i].replace('\\n', '')\n",
    "    lines[i]=lines[i].split(' ')\n",
    "\n",
    "    if lines[i][0] == 'dens':\n",
    "        dens_idx = i\n",
    "        dens_line = lines[i][2:]\n",
    "\n",
    "    if lines[i][0] == 'temp':\n",
    "        temp_idx = i\n",
    "        temp_line = lines[i][2:]\n",
    "\n",
    "    if lines[i][0] == 'delta':\n",
    "        delta_idx = i\n",
    "        delta_line = lines[i][2:]\n",
    "\n",
    "    if lines[i][0] == 'Av':\n",
    "        Av_idx = i\n",
    "        Av_line = lines[i][2:]\n",
    "\n",
    "\n",
    "print(dens_line)\n",
    "print(temp_line)\n",
    "\n",
    "if len(dens_line) > 1 and dens_line[1] == ':':\n",
    "    type = 'single'\n",
    "\n",
    "if len(dens_line) > 1 and dens_line[1] == ';':\n",
    "    type = 'combine'\n",
    "\n",
    "else: type = 'none'\n",
    "\n",
    "print(type)\n",
    "\n",
    "input = dict()"
   ]
  },
  {
   "cell_type": "markdown",
   "metadata": {},
   "source": [
    "### Three body reactions"
   ]
  },
  {
   "cell_type": "code",
   "execution_count": 136,
   "metadata": {},
   "outputs": [],
   "source": [
    "def read_rate_file():\n",
    "\n",
    "    loc = 'rates/rate16_IP_2330K_AP_6000K.rates'\n",
    "\n",
    "    rates = dict()\n",
    "    with open(loc, 'r') as f:\n",
    "        lines = f.readlines()\n",
    "        for i in range(len(lines)):\n",
    "            line = lines[i].split(':')\n",
    "            rates[int(line[0])] = line[1:]\n",
    "    \n",
    "    type = list()\n",
    "    α = list()\n",
    "    β = list()\n",
    "    γ = list()\n",
    "    for rate in rates:\n",
    "        type.append((rates[rate][0]))\n",
    "        α.append(float(rates[rate][8]))\n",
    "        β.append(float(rates[rate][9]))\n",
    "        γ.append(float(rates[rate][10]))\n",
    "\n",
    "    return rates, type, np.array(α), np.array(β), np.array(γ)"
   ]
  },
  {
   "cell_type": "code",
   "execution_count": 104,
   "metadata": {},
   "outputs": [],
   "source": [
    "# Read the rates file and return the rate coefficients per reaction: \n",
    "#               reaction no.:type:R1:R2:P1:P2:P3:P4:NE:α : β : γ: Tl :Tu:ST:ACC:REF\n",
    "# indices                 0    1  2  3  4  5  6  7  8  9  10  11  12  13 14 15 "
   ]
  },
  {
   "cell_type": "code",
   "execution_count": 137,
   "metadata": {},
   "outputs": [],
   "source": [
    "rates, type, α, β, γ = read_rate_file()"
   ]
  },
  {
   "cell_type": "code",
   "execution_count": 140,
   "metadata": {},
   "outputs": [
    {
     "data": {
      "text/plain": [
       "(1.5e-08, 'DR')"
      ]
     },
     "execution_count": 140,
     "metadata": {},
     "output_type": "execute_result"
    }
   ],
   "source": [
    "no = 1004\n",
    "α[no-1], type[no-1]"
   ]
  },
  {
   "cell_type": "code",
   "execution_count": 127,
   "metadata": {},
   "outputs": [
    {
     "data": {
      "text/plain": [
       "['DR',\n",
       " 'C2H3+',\n",
       " 'e-',\n",
       " 'C2',\n",
       " 'H',\n",
       " 'H2',\n",
       " '',\n",
       " '2',\n",
       " '1.50e-08',\n",
       " '-0.84',\n",
       " '0.0',\n",
       " '50',\n",
       " '1000',\n",
       " 'L',\n",
       " 'A',\n",
       " '\"10.1051/0004-6361',\n",
       " '20020882\"',\n",
       " '\"06_3581D.notes\"',\n",
       " '2.87e-08',\n",
       " '-1.38',\n",
       " '0.0',\n",
       " '1000',\n",
       " '30000',\n",
       " 'L',\n",
       " 'A',\n",
       " '\"10.1051/0004-6361',\n",
       " '20020882\"',\n",
       " '\"06_3581D.notes\"',\n",
       " '\\n']"
      ]
     },
     "execution_count": 127,
     "metadata": {},
     "output_type": "execute_result"
    }
   ],
   "source": [
    "rates[1004]"
   ]
  },
  {
   "cell_type": "code",
   "execution_count": 116,
   "metadata": {},
   "outputs": [],
   "source": [
    "def read_specs_file(chemtype):\n",
    "\n",
    "    loc = 'rates/rate16_IP_6000K_'+chemtype+'rich_mean_Htot.specs'\n",
    "\n",
    "    # specs = dict()\n",
    "\n",
    "    specs = np.loadtxt(loc, skiprows=1,   max_rows=466, usecols=(1), dtype=str)\n",
    "    consv = np.loadtxt(loc, skiprows=468, max_rows=2  , usecols=(1), dtype=str)\n",
    "    parnt = np.loadtxt(loc, skiprows=471,               usecols=(0), dtype=str)\n",
    "    \n",
    "\n",
    "    return specs, parnt, consv"
   ]
  },
  {
   "cell_type": "code",
   "execution_count": 117,
   "metadata": {},
   "outputs": [],
   "source": [
    "specs, parnt, consv = read_specs_file('C')"
   ]
  },
  {
   "cell_type": "code",
   "execution_count": 119,
   "metadata": {},
   "outputs": [
    {
     "data": {
      "text/plain": [
       "(2,\n",
       " array(['H', 'H+', 'H-', 'H2+', 'H3+', 'He', 'He+', 'HeH+', 'C-', 'C+',\n",
       "        'C', 'CH-', 'CH+', 'CH', 'CH2+', 'N+', 'CH2', 'N', 'CH3', 'NH',\n",
       "        'NH+', 'CH3+', 'O+', 'NH2+', 'CH4+', 'O-', 'NH2', 'O', 'CH4',\n",
       "        'OH-', 'OH', 'OH+', 'CH5+', 'NH3+', 'NH3', 'NH4+', 'H2O', 'H2O+',\n",
       "        'F', 'H3O+', 'F+', 'HF', 'HF+', 'H2F+', 'Na', 'Na+', 'C2-', 'C2+',\n",
       "        'Mg', 'Mg+', 'C2', 'C2H-', 'C2H+', 'C2H', 'CN', 'C2H2', 'C2H2+',\n",
       "        'CN-', 'CN+', 'HCN', 'C2H3', 'C2H3+', 'HCN+', 'HNC', 'N2', 'C2H4+',\n",
       "        'Si+', 'H2CN', 'H2NC+', 'N2+', 'Si', 'CO', 'CO+', 'C2H4', 'HCNH+',\n",
       "        'C2H5+', 'HCO', 'SiH+', 'HCO+', 'CH2NH', 'SiH', 'C2H5', 'HOC+',\n",
       "        'N2H+', 'CH2NH2+', 'SiH2', 'CH3CH3+', 'NO', 'H2CO', 'CH4N+',\n",
       "        'H2CO+', 'CH3CH3', 'SiH2+', 'NO+', 'P+', 'P', 'H3CO+', 'HNO+',\n",
       "        'SiH3+', 'HNO', 'CF+', 'C2H7+', 'SiH3', 'O2', 'SiH4', 'PH', 'S',\n",
       "        'H2NO+', 'CH3OH', 'SiH4+', 'O2+', 'S-', 'O2-', 'PH+', 'CH3OH+',\n",
       "        'S+', 'CH3OH2+', 'O2H', 'PH2+', 'HS', 'HS+', 'PH2', 'O2H+',\n",
       "        'SiH5+', 'H2O2', 'H2S+', 'H2S', 'PH3+', 'H3S+', 'Cl', 'Cl+', 'C3+',\n",
       "        'HCl', 'C3-', 'C3', 'HCl+', 'H2Cl+', 'C3H-', 'C3H+', 'C3H', 'C2N',\n",
       "        'C3H2+', 'C2N+', 'H2CCC', 'CNC+', 'C3H2', 'C2NH+', 'C3H3+',\n",
       "        'CH2CCH', 'CH2CCH+', 'SiC', 'CH2CCH2', 'SiC+', 'C2O', 'C3H4+',\n",
       "        'C2O+', 'CH2CN', 'CH3CCH', 'CH2CN+', 'C3H5+', 'HCSi', 'HCSi+',\n",
       "        'CH3CN+', 'HC2O+', 'CH3CN', 'C3H6+', 'SiN', 'CH3CNH+', 'NH2CN',\n",
       "        'CH3CHCH2', 'SiN+', 'SiCH2+', 'SiCH2', 'CNO', 'CH2CO+', 'OCN',\n",
       "        'OCN+', 'CH2CO', 'CP+', 'HNCO', 'HCNO+', 'HNCO+', 'HONC', 'SiCH3+',\n",
       "        'HCNO', 'CP', 'C3H7+', 'NH2CNH+', 'HNSi+', 'HOCN', 'HNSi',\n",
       "        'CH3CO+', 'HOCN+', 'SiCH3', 'HONC+', 'CS+', 'HCNOH+', 'N2O+', 'CS',\n",
       "        'SiCH4+', 'CO2+', 'H2OCN+', 'HNCOH+', 'SiNH2+', 'HCP', 'SiO+',\n",
       "        'CH3CHO', 'SiO', 'H2CNO+', 'CH3CHO+', 'N2O', 'H2NCO+', 'HCP+',\n",
       "        'CO2', 'CH3CHOH+', 'HCS+', 'SiOH+', 'PN+', 'PN', 'HCS', 'PCH2+',\n",
       "        'HN2O+', 'HCO2+', 'NS+', 'H2SiO', 'H2CS', 'NS', 'CH2PH', 'HCOOH+',\n",
       "        'C2H5OH+', 'NO2', 'CH3OCH3', 'H2CS+', 'HCOOH', 'PCH3+', 'H2SiO+',\n",
       "        'CH3OCH3+', 'C2H5OH', 'NO2+', 'HPN+', 'CH3OCH4+', 'SiF+', 'PNH2+',\n",
       "        'CCl', 'H3CS+', 'PO+', 'CCl+', 'HNS+', 'PCH4+', 'HCOOH2+', 'PO',\n",
       "        'C2H5OH2+', 'H3SiO+', 'C4-', 'HPO+', 'HPO', 'C4', 'SO', 'C4+',\n",
       "        'SO+', 'PNH3+', 'C4H+', 'H2CCl+', 'H2PO+', 'C4H', 'C4H-', 'HSO+',\n",
       "        'C4H2+', 'C3N', 'HC4H', 'C3N+', 'C3N-', 'HC3N+', 'C4H3', 'HC3N',\n",
       "        'ClO', 'ClO+', 'C4H3+', 'HNC3', 'C3O', 'CH2CHCCH', 'SiC2', 'SiC2+',\n",
       "        'NCCN', 'HC3NH+', 'C4H4+', 'C2N2+', 'C3O+', 'HC3O+', 'C4H5+',\n",
       "        'SiC2H', 'CH2CHCN', 'CH2CHCN+', 'SiC2H+', 'NCCNH+', 'SiC2H2+',\n",
       "        'CH2CHCNH+', 'CH2CHCHCH2', 'C3H2O+', 'SiC2H2', 'SiNC+', 'SiNC',\n",
       "        'SiNCH+', 'CCP', 'C2H5CN', 'SiC2H3+', 'CCP+', 'C4H7+', 'H3C3O+',\n",
       "        'HC2P', 'HC2P+', 'Fe+', 'C2H5CNH+', 'C2S', 'C2S+', 'Fe', 'HC2S+',\n",
       "        'PC2H2+', 'CH3COCH3+', 'CH3COCH3', 'PC2H3+', 'CH3COCH4+', 'CH3CS+',\n",
       "        'PC2H4+', 'HCOOCH3', 'C5', 'OCS+', 'SiO2', 'C5-', 'SiS+', 'OCS',\n",
       "        'SiS', 'C5+', 'COOCH4+', 'HOCS+', 'HSiS+', 'C5H+', 'HSiO2+', 'C5H',\n",
       "        'H5C2O2+', 'C5H-', 'C5H2+', 'C4N+', 'C5H2', 'C4N', 'HC4N+',\n",
       "        'C5H3+', 'CH3C4H', 'SO2', 'S2', 'SiC3+', 'CH3C4H+', 'S2+', 'SiC3',\n",
       "        'H2C4N+', 'SO2+', 'HS2', 'HSO2+', 'SiC3H+', 'CH3C3N+', 'HS2+',\n",
       "        'CH3C3N', 'SiC3H', 'C5H5+', 'CH3C3NH+', 'H2S2+', 'SiC3H2+', 'H2S2',\n",
       "        'H3S2+', 'NCCNCH3+', 'C3P', 'PC3H+', 'C3S', 'C3S+', 'HC3S+', 'C6-',\n",
       "        'C6+', 'C6', 'C6H', 'C6H+', 'C6H-', 'C6H2', 'C6H2+', 'C5N', 'C5N-',\n",
       "        'C5N+', 'HC5N+', 'HC5N', 'C6H3+', 'SiC4+', 'C6H4+', 'HC5NH+',\n",
       "        'SiC4', 'H3C5N+', 'SiC4H+', 'C6H5+', 'C6H6', 'C6H6+', 'C4P',\n",
       "        'C6H7+', 'C4P+', 'C4S', 'PC4H+', 'C4S+', 'HC4S+', 'C7+', 'C7',\n",
       "        'C7-', 'C7H-', 'C7H+', 'C7H', 'C7H2+', 'C7H2', 'C7H3+', 'C7H4+',\n",
       "        'CH3C6H', 'CH3C5N', 'C7H5+', 'CH3C5NH+', 'C8-', 'C8', 'C8+', 'C8H',\n",
       "        'C8H+', 'C8H-', 'C8H2', 'C7N', 'C7N+', 'C8H2+', 'HC7N', 'HC7N+',\n",
       "        'C8H3+', 'C8H4+', 'H2C7N+', 'C8H5+', 'H3C7N+', 'C9', 'C9+', 'C9-',\n",
       "        'C9H+', 'C9H-', 'C9H', 'C9H2+', 'C9H2', 'C9H3+', 'C9H4+', 'CH3C7N',\n",
       "        'C9H5+', 'CH3C7NH+', 'C10-', 'C10', 'C10+', 'C10H+', 'C10H-',\n",
       "        'C10H', 'C9N', 'C9N+', 'C10H2', 'C10H2+', 'HC9N+', 'C10H3+',\n",
       "        'HC9N', 'H2C9N+', 'H3C9N+', 'C11', 'C11+'], dtype='<U10'))"
      ]
     },
     "execution_count": 119,
     "metadata": {},
     "output_type": "execute_result"
    }
   ],
   "source": [
    "len(consv), specs"
   ]
  }
 ],
 "metadata": {
  "interpreter": {
   "hash": "4cfec3ae79f839ed35c55406a3ad8c3c1082e0129819951cbf0a51bf47981102"
  },
  "kernelspec": {
   "display_name": "Python 3.9.16 ('mace')",
   "language": "python",
   "name": "python3"
  },
  "language_info": {
   "codemirror_mode": {
    "name": "ipython",
    "version": 3
   },
   "file_extension": ".py",
   "mimetype": "text/x-python",
   "name": "python",
   "nbconvert_exporter": "python",
   "pygments_lexer": "ipython3",
   "version": "3.9.16"
  },
  "orig_nbformat": 4
 },
 "nbformat": 4,
 "nbformat_minor": 2
}
