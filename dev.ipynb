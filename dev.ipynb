{
 "cells": [
  {
   "cell_type": "code",
   "execution_count": 1,
   "metadata": {},
   "outputs": [],
   "source": [
    "import numpy             as np\n",
    "import matplotlib.pyplot as plt\n",
    "\n",
    "from matplotlib          import rcParams, rc\n",
    "# Change the matplotlib default parameters\n",
    "# rcParams.update({'font.size':   12})\n",
    "rcParams.update({'figure.dpi': 200})\n",
    "# rc('font', family='serif')\n",
    "# rc('text', usetex=True)\n",
    "\n",
    "from astropy import units as units\n",
    "\n",
    "from src.ode.acodes     import ODE\n",
    "from src.rates          import initialise_abs, calculate_rates\n",
    "from src.input          import setinput, getcst\n",
    "\n",
    "from scipy.integrate    import solve_ivp\n",
    "from astropy            import constants"
   ]
  },
  {
   "cell_type": "markdown",
   "metadata": {},
   "source": [
    "### Physical constants"
   ]
  },
  {
   "cell_type": "code",
   "execution_count": 40,
   "metadata": {},
   "outputs": [],
   "source": [
    "## constants\n",
    "kB, mH, rGr, nGr, stckH, AUV_AV = getcst()\n",
    "\n",
    "## input values physics\n",
    "ρ, T, δ, Av, chemtype = setinput()\n",
    "\n",
    "## input chemistry\n",
    "chemtype = 'C'\n",
    "\n",
    "## calculate H accretion on dust\n",
    "Haccr = stckH *np.pi*(rGr**2.0)*ρ*nGr*(8.0*kB*T/(np.pi*mH))**0.5\n",
    "\n",
    "yr_to_sec = units.year.to('s')         ## year in seconds"
   ]
  },
  {
   "cell_type": "code",
   "execution_count": 38,
   "metadata": {},
   "outputs": [
    {
     "name": "stdout",
     "output_type": "stream",
     "text": [
      "['### Inputfile TorchChem ###\\n', '### ------------------- ###\\n', '\\n', '## Use : to split input to create specific models.\\n', '## Use ; to cross all input values.\\n', '\\n', '\\n', '## --\\n', '\\n', '# density [Msol/yr]\\n', 'dens = 1e-6 ; 1e-5\\n', '\\n', '# temperature [K]\\n', 'temp = 2000\\n', '\\n', '# overall dilution of the radiation field\\n', 'delta = 1\\n', '\\n', '# species-specific extinction (connected to optical depth)\\n', 'Av = 1\\n', '\\n', '## --']\n",
      "['1e-6', ';', '1e-5']\n",
      "['2000']\n",
      "combine\n"
     ]
    }
   ],
   "source": [
    "'''\n",
    "TODO \n",
    "om te vermijden dat er kei veel moet geloopt worden over elke lijst van elke input parameter, \n",
    "kan er gesplit worden gewoon op spatie, en dan een ander keyword meegeven om te beslissen of alle\n",
    "params gecombineerd worden, of dat het per model is.\n",
    "\n",
    "'''\n",
    "\n",
    "\n",
    "\n",
    "infile = '/lhome/silkem/ChemTorch/ChemTorch/input/input.txt'\n",
    "\n",
    "filelines = list()\n",
    "\n",
    "with open(infile, 'r') as f:\n",
    "    lines = f.readlines()\n",
    "    \n",
    "\n",
    "print(lines)\n",
    "\n",
    "\n",
    "for i in range(len(lines)):\n",
    "    lines[i]=lines[i].replace(' \\n', '')\n",
    "    lines[i]=lines[i].replace('\\n', '')\n",
    "    lines[i]=lines[i].split(' ')\n",
    "\n",
    "    if lines[i][0] == 'dens':\n",
    "        dens_idx = i\n",
    "        dens_line = lines[i][2:]\n",
    "\n",
    "    if lines[i][0] == 'temp':\n",
    "        temp_idx = i\n",
    "        temp_line = lines[i][2:]\n",
    "\n",
    "    if lines[i][0] == 'delta':\n",
    "        delta_idx = i\n",
    "        delta_line = lines[i][2:]\n",
    "\n",
    "    if lines[i][0] == 'Av':\n",
    "        Av_idx = i\n",
    "        Av_line = lines[i][2:]\n",
    "\n",
    "\n",
    "print(dens_line)\n",
    "print(temp_line)\n",
    "\n",
    "if len(dens_line) > 1 and dens_line[1] == ':':\n",
    "    type = 'single'\n",
    "\n",
    "if len(dens_line) > 1 and dens_line[1] == ';':\n",
    "    type = 'combine'\n",
    "\n",
    "else: type = 'none'\n",
    "\n",
    "print(type)\n",
    "\n",
    "input = dict()"
   ]
  },
  {
   "cell_type": "markdown",
   "metadata": {},
   "source": [
    "### Three body reactions"
   ]
  },
  {
   "cell_type": "code",
   "execution_count": 3,
   "metadata": {},
   "outputs": [],
   "source": [
    "def read_rate_file():\n",
    "\n",
    "    loc = 'rates/rate16_IP_2330K_AP_6000K.rates'\n",
    "\n",
    "    rates = dict()\n",
    "    with open(loc, 'r') as f:\n",
    "        lines = f.readlines()\n",
    "        for i in range(len(lines)):\n",
    "            line = lines[i].split(':')\n",
    "            rates[int(line[0])] = line[1:]\n",
    "    \n",
    "    type = list()\n",
    "    no = list()\n",
    "    α = np.zeros(len(rates))\n",
    "    β = np.zeros(len(rates))\n",
    "    γ = np.zeros(len(rates))\n",
    "    for nb in rates:\n",
    "        no.append(nb)\n",
    "        type.append(str(rates[nb][0]))\n",
    "        α[nb-1] = float(rates[nb][8])\n",
    "        β[nb-1] = float(rates[nb][9])\n",
    "        γ[nb-1] = float(rates[nb][10])\n",
    "\n",
    "    return rates, no, type, α, β, γ"
   ]
  },
  {
   "cell_type": "code",
   "execution_count": 1,
   "metadata": {},
   "outputs": [],
   "source": [
    "# Read the rates file and return the rate coefficients per reaction: \n",
    "#               reaction no.:type:R1:R2:P1:P2:P3:P4:NE:α : β : γ: Tl :Tu:ST:ACC:REF\n",
    "# indices                 0    1  2  3  4  5  6  7  8  9  10  11  12  13 14 15 "
   ]
  },
  {
   "cell_type": "code",
   "execution_count": 63,
   "metadata": {},
   "outputs": [],
   "source": [
    "rates, no, type, α, β, γ = read_rate_file()"
   ]
  },
  {
   "cell_type": "code",
   "execution_count": 4,
   "metadata": {},
   "outputs": [],
   "source": [
    "def read_specs_file(chemtype):\n",
    "\n",
    "    loc = 'rates/rate16_IP_6000K_'+chemtype+'rich_mean_Htot.specs'\n",
    "\n",
    "    # specs = dict()\n",
    "\n",
    "    specs = np.loadtxt(loc, skiprows=1,   max_rows=466, usecols=(1), dtype=str)\n",
    "    consv = np.loadtxt(loc, skiprows=468, max_rows=2  , usecols=(1), dtype=str)\n",
    "    parnt = np.loadtxt(loc, skiprows=471   , usecols= (0,1), dtype=str)\n",
    "    \n",
    "\n",
    "    return specs, (parnt).T, consv"
   ]
  },
  {
   "cell_type": "code",
   "execution_count": 38,
   "metadata": {},
   "outputs": [],
   "source": [
    "specs, parnt, consv = read_specs_file('C')"
   ]
  },
  {
   "cell_type": "markdown",
   "metadata": {},
   "source": [
    "### CO self-shielding (Visser et al. 2009)"
   ]
  },
  {
   "cell_type": "code",
   "execution_count": 82,
   "metadata": {},
   "outputs": [],
   "source": [
    "from pathlib import Path\n",
    "\n",
    "\n",
    "def shield_rewrite(loc):\n",
    "    print(loc)\n",
    "\n",
    "    ## Read file\n",
    "    with open(loc, 'r') as f:\n",
    "        lines = f.readlines()\n",
    "    for i in range(len(lines)):                 ## remove '\\n'\n",
    "        lines[i]=lines[i].replace('\\n', '')\n",
    "\n",
    "\n",
    "    ## Retrieve values for N(H2) and N(CO)\n",
    "    idx_H2 = lines.index('N(H2)')\n",
    "    idx_CO = lines.index('N(12CO)')\n",
    "    idx_sh = lines.index('12C16O')\n",
    "    CO = list()\n",
    "    for i in range(idx_CO+1, idx_H2):\n",
    "        CO.append(lines[i])\n",
    "    H2 = list()\n",
    "    for i in range(idx_H2+1, idx_sh):\n",
    "        H2.append(lines[i])\n",
    "\n",
    "    ## get shielding rates in convenient format\n",
    "    shield = list()\n",
    "    row = ''\n",
    "    for i in range(idx_sh+1, len(lines)-1):\n",
    "        # print(i,len(lines))\n",
    "        if i == len(lines)-2:\n",
    "            # print('last')\n",
    "            row = row + lines[i] + lines[i+1]\n",
    "            shield.append(row)\n",
    "            row = ''\n",
    "        elif len(lines[i]) >= len(lines[i+1]):\n",
    "            row = row + lines[i]\n",
    "        else:\n",
    "            row = row + lines[i]\n",
    "            shield.append(row)\n",
    "            row = ''\n",
    "\n",
    "    ## write out again in convenient form\n",
    "    with open(loc, 'w') as f:\n",
    "        for i in range(idx_CO):\n",
    "            f.write(lines[i]+'\\n')\n",
    "        f.write('\\n')\n",
    "        f.write('CO shielding rates     (for parameters/values rows & columns: check legend file)\\n')\n",
    "        for row in shield:\n",
    "            f.write(row+'\\n')\n",
    "\n",
    "    legend = './shielding/CO/legend.txt'\n",
    "    with open(legend, 'w') as f:\n",
    "        f.write('Legend of CO shielding tables\\n')\n",
    "        f.write('\\n')\n",
    "        f.write('N(CO) - rows       N(H2) - columns\\n')\n",
    "        for i in range(len(H2)):\n",
    "            f.write(CO[i]+'     '+H2[i]+'\\n')\n",
    "        for i in range(len(H2), len(CO)):\n",
    "            f.write(CO[i]+'\\n')\n",
    "\n",
    "    return\n",
    " \n"
   ]
  },
  {
   "cell_type": "code",
   "execution_count": 111,
   "metadata": {},
   "outputs": [
    {
     "name": "stdout",
     "output_type": "stream",
     "text": [
      "shield.03.5.35-557-36.dat\n"
     ]
    },
    {
     "ename": "FileNotFoundError",
     "evalue": "[Errno 2] No such file or directory: 'shield.03.5.35-557-36.dat'",
     "output_type": "error",
     "traceback": [
      "\u001b[0;31m---------------------------------------------------------------------------\u001b[0m",
      "\u001b[0;31mFileNotFoundError\u001b[0m                         Traceback (most recent call last)",
      "Cell \u001b[0;32mIn[111], line 8\u001b[0m\n\u001b[1;32m      5\u001b[0m locs \u001b[38;5;241m=\u001b[39m os\u001b[38;5;241m.\u001b[39mlistdir(dir_shielding)\n\u001b[1;32m      7\u001b[0m \u001b[38;5;28;01mfor\u001b[39;00m loc \u001b[38;5;129;01min\u001b[39;00m locs:\n\u001b[0;32m----> 8\u001b[0m     \u001b[43mshield_rewrite\u001b[49m\u001b[43m(\u001b[49m\u001b[43mloc\u001b[49m\u001b[43m)\u001b[49m\n",
      "Cell \u001b[0;32mIn[82], line 8\u001b[0m, in \u001b[0;36mshield_rewrite\u001b[0;34m(loc)\u001b[0m\n\u001b[1;32m      5\u001b[0m \u001b[38;5;28mprint\u001b[39m(loc)\n\u001b[1;32m      7\u001b[0m \u001b[38;5;66;03m## Read file\u001b[39;00m\n\u001b[0;32m----> 8\u001b[0m \u001b[38;5;28;01mwith\u001b[39;00m \u001b[38;5;28;43mopen\u001b[39;49m\u001b[43m(\u001b[49m\u001b[43mloc\u001b[49m\u001b[43m,\u001b[49m\u001b[43m \u001b[49m\u001b[38;5;124;43m'\u001b[39;49m\u001b[38;5;124;43mr\u001b[39;49m\u001b[38;5;124;43m'\u001b[39;49m\u001b[43m)\u001b[49m \u001b[38;5;28;01mas\u001b[39;00m f:\n\u001b[1;32m      9\u001b[0m     lines \u001b[38;5;241m=\u001b[39m f\u001b[38;5;241m.\u001b[39mreadlines()\n\u001b[1;32m     10\u001b[0m \u001b[38;5;28;01mfor\u001b[39;00m i \u001b[38;5;129;01min\u001b[39;00m \u001b[38;5;28mrange\u001b[39m(\u001b[38;5;28mlen\u001b[39m(lines)):                 \u001b[38;5;66;03m## remove '\\n'\u001b[39;00m\n",
      "File \u001b[0;32m~/anaconda3/envs/mace/lib/python3.9/site-packages/IPython/core/interactiveshell.py:282\u001b[0m, in \u001b[0;36m_modified_open\u001b[0;34m(file, *args, **kwargs)\u001b[0m\n\u001b[1;32m    <a href='file:///lhome/silkem/anaconda3/envs/mace/lib/python3.9/site-packages/IPython/core/interactiveshell.py?line=274'>275</a>\u001b[0m \u001b[39mif\u001b[39;00m file \u001b[39min\u001b[39;00m {\u001b[39m0\u001b[39m, \u001b[39m1\u001b[39m, \u001b[39m2\u001b[39m}:\n\u001b[1;32m    <a href='file:///lhome/silkem/anaconda3/envs/mace/lib/python3.9/site-packages/IPython/core/interactiveshell.py?line=275'>276</a>\u001b[0m     \u001b[39mraise\u001b[39;00m \u001b[39mValueError\u001b[39;00m(\n\u001b[1;32m    <a href='file:///lhome/silkem/anaconda3/envs/mace/lib/python3.9/site-packages/IPython/core/interactiveshell.py?line=276'>277</a>\u001b[0m         \u001b[39mf\u001b[39m\u001b[39m\"\u001b[39m\u001b[39mIPython won\u001b[39m\u001b[39m'\u001b[39m\u001b[39mt let you open fd=\u001b[39m\u001b[39m{\u001b[39;00mfile\u001b[39m}\u001b[39;00m\u001b[39m by default \u001b[39m\u001b[39m\"\u001b[39m\n\u001b[1;32m    <a href='file:///lhome/silkem/anaconda3/envs/mace/lib/python3.9/site-packages/IPython/core/interactiveshell.py?line=277'>278</a>\u001b[0m         \u001b[39m\"\u001b[39m\u001b[39mas it is likely to crash IPython. If you know what you are doing, \u001b[39m\u001b[39m\"\u001b[39m\n\u001b[1;32m    <a href='file:///lhome/silkem/anaconda3/envs/mace/lib/python3.9/site-packages/IPython/core/interactiveshell.py?line=278'>279</a>\u001b[0m         \u001b[39m\"\u001b[39m\u001b[39myou can use builtins\u001b[39m\u001b[39m'\u001b[39m\u001b[39m open.\u001b[39m\u001b[39m\"\u001b[39m\n\u001b[1;32m    <a href='file:///lhome/silkem/anaconda3/envs/mace/lib/python3.9/site-packages/IPython/core/interactiveshell.py?line=279'>280</a>\u001b[0m     )\n\u001b[0;32m--> <a href='file:///lhome/silkem/anaconda3/envs/mace/lib/python3.9/site-packages/IPython/core/interactiveshell.py?line=281'>282</a>\u001b[0m \u001b[39mreturn\u001b[39;00m io_open(file, \u001b[39m*\u001b[39;49margs, \u001b[39m*\u001b[39;49m\u001b[39m*\u001b[39;49mkwargs)\n",
      "\u001b[0;31mFileNotFoundError\u001b[0m: [Errno 2] No such file or directory: 'shield.03.5.35-557-36.dat'"
     ]
    }
   ],
   "source": [
    "dir_shielding = './shielding/CO/'\n",
    "\n",
    "import os\n",
    "\n",
    "locs = os.listdir(dir_shielding)\n",
    "\n",
    "for loc in locs:\n",
    "    shield_rewrite(loc)\n",
    "    "
   ]
  },
  {
   "cell_type": "code",
   "execution_count": 108,
   "metadata": {},
   "outputs": [],
   "source": [
    "def read_shielding(loc):\n",
    "    shielding = np.loadtxt(loc, skiprows=9, dtype=np.float64)\n",
    "    leg = './shielding/CO/legend.txt'\n",
    "\n",
    "    CO = np.loadtxt(leg, skiprows = 3, dtype = np.float64, usecols = (0))\n",
    "    H2 = np.loadtxt(leg, skiprows = 3, dtype = np.float64, usecols = (1), max_rows=shielding.shape[0])\n",
    "\n",
    "    return shielding, CO, H2\n"
   ]
  },
  {
   "cell_type": "code",
   "execution_count": 103,
   "metadata": {},
   "outputs": [],
   "source": [
    "## retrieve shielding rate, given N_CO & N_H2\n",
    "\n",
    "def retrieve_rate(N_CO, N_H2, shielding, CO, H2):\n",
    "    idx, = np.where(CO ==  N_CO)\n",
    "    idx_CO = idx[0]\n",
    "    idx, = np.where(H2 ==  N_H2)\n",
    "    idx_H2 = idx[0]\n",
    "    \n",
    "    shieldrate = shielding[idx_H2, idx_CO]\n",
    "\n",
    "    return shieldrate"
   ]
  },
  {
   "cell_type": "code",
   "execution_count": 112,
   "metadata": {},
   "outputs": [
    {
     "name": "stdout",
     "output_type": "stream",
     "text": [
      "0.8899\n"
     ]
    }
   ],
   "source": [
    "loc = 'shield.03.5.35-557-36.dat'\n",
    "\n",
    "shielding, CO, H2 = read_shielding(dir_shielding+loc)\n",
    "rate = retrieve_rate(1,1e16,shielding, CO, H2)\n",
    "print(rate)"
   ]
  },
  {
   "cell_type": "markdown",
   "metadata": {},
   "source": [
    "### Outflow density"
   ]
  },
  {
   "cell_type": "code",
   "execution_count": 51,
   "metadata": {},
   "outputs": [],
   "source": [
    "def density(Mdot,v, r):\n",
    "    '''\n",
    "    Input \n",
    "        - mass-loss rate (Mdot) in units of Msol/yr\n",
    "        - outflow velocity (v) in units of km/s\n",
    "        - radius (r): location of the outflow, inputs of cm\n",
    "    Output\n",
    "        - density in units of g/cm^3\n",
    "    '''\n",
    "    # r    = 1e18 #* unt.cgs.cm                       # cm\n",
    "    Mdot = Mdot * Msunyr                            # gram/s\n",
    "    v    = v    * cms                               # cm/s\n",
    "\n",
    "\n",
    "    dens = Mdot / (4*pi * v * r**2 * mu * mH)       # g/cm^3\n",
    "\n",
    "    # dens = dens * g_to_kg * cm_to_m**(-3)           # kg/m^3\n",
    "\n",
    "    return dens"
   ]
  },
  {
   "cell_type": "code",
   "execution_count": 52,
   "metadata": {},
   "outputs": [
    {
     "name": "stdout",
     "output_type": "stream",
     "text": [
      "1.13E+07\n",
      "7.51E+05\n",
      "1.13E+05\n",
      "2.25E+04\n"
     ]
    }
   ],
   "source": [
    "r = 1.e15\n",
    "print('{:.2E}'.format(density(1.e-5, 10., r)))\n",
    "print('{:.2E}'.format(density(1.e-6, 15., r)))\n",
    "print('{:.2E}'.format(density(1.e-7, 10., r)))\n",
    "print('{:.2E}'.format(density(1.e-8, 5. , r)))"
   ]
  }
 ],
 "metadata": {
  "interpreter": {
   "hash": "4cfec3ae79f839ed35c55406a3ad8c3c1082e0129819951cbf0a51bf47981102"
  },
  "kernelspec": {
   "display_name": "Python 3.9.16 ('mace')",
   "language": "python",
   "name": "python3"
  },
  "language_info": {
   "codemirror_mode": {
    "name": "ipython",
    "version": 3
   },
   "file_extension": ".py",
   "mimetype": "text/x-python",
   "name": "python",
   "nbconvert_exporter": "python",
   "pygments_lexer": "ipython3",
   "version": "3.9.16"
  },
  "orig_nbformat": 4
 },
 "nbformat": 4,
 "nbformat_minor": 2
}
