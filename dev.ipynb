{
 "cells": [
  {
   "cell_type": "code",
   "execution_count": 9,
   "metadata": {},
   "outputs": [],
   "source": [
    "import numpy as np\n",
    "from astropy import constants as cst\n",
    "from astropy import units as units\n",
    "import sys\n",
    "sys.path.insert(1, '/lhome/silkem/ChemTorch/ChemTorch/src')\n",
    "sys.path.insert(1, '/lhome/silkem/ChemTorch/ChemTorch/src/ode')\n",
    "import rates as r\n",
    "import odes as o"
   ]
  },
  {
   "cell_type": "markdown",
   "metadata": {},
   "source": [
    "### Physical constants"
   ]
  },
  {
   "cell_type": "code",
   "execution_count": 40,
   "metadata": {},
   "outputs": [],
   "source": [
    "## Physical constants\n",
    "kB = cst.k_B.cgs.value          ## Boltzmann constant [erg/K]\n",
    "mH = cst.u.to('g').value        ## mass H atom = atomic mass unit [g]\n",
    "Msun = cst.M_sun.cgs.value      ## gram\n",
    "yr = units.year.to('s')         ## year in seconds\n",
    "Msunyr = Msun/yr                ## units of mass-loss rate in gram/s\n",
    "cms  = 1e5                      ## units of velocity in cm/s\n",
    "g_to_kg = units.gram.to('kg')\n",
    "cm_to_m = units.cm.to('m')\n",
    "\n",
    "## Other constants\n",
    "pi = np.pi\n",
    "mu = 2.0 + 4.0*0.17             ## mu (average mass per H2 molecule), taking into account the abundance of He\n",
    "\n",
    "\n",
    "#-- GRAIN PARAMETERS FOR H2 FORMATION AND CR IONISATION\n",
    "rGr = 1.0E-5        ## grain radius [cm]\n",
    "nGr = 1.5e-12       ## grain number density/H2 (assuming gas/dust = 200, rho = 3.5 g/cm^3)\n",
    "w = 0.5             ## grain albedo\n",
    "AUV_AV = 4.65\n",
    "stckH = 0.3         ## sticking coefficient for H atoms"
   ]
  },
  {
   "cell_type": "code",
   "execution_count": 39,
   "metadata": {},
   "outputs": [
    {
     "name": "stdout",
     "output_type": "stream",
     "text": [
      "0.01\n"
     ]
    }
   ],
   "source": [
    "print(meter)"
   ]
  },
  {
   "cell_type": "code",
   "execution_count": 38,
   "metadata": {},
   "outputs": [
    {
     "name": "stdout",
     "output_type": "stream",
     "text": [
      "['### Inputfile TorchChem ###\\n', '### ------------------- ###\\n', '\\n', '## Use : to split input to create specific models.\\n', '## Use ; to cross all input values.\\n', '\\n', '\\n', '## --\\n', '\\n', '# density [Msol/yr]\\n', 'dens = 1e-6 ; 1e-5\\n', '\\n', '# temperature [K]\\n', 'temp = 2000\\n', '\\n', '# overall dilution of the radiation field\\n', 'delta = 1\\n', '\\n', '# species-specific extinction (connected to optical depth)\\n', 'Av = 1\\n', '\\n', '## --']\n",
      "['1e-6', ';', '1e-5']\n",
      "['2000']\n",
      "combine\n"
     ]
    }
   ],
   "source": [
    "'''\n",
    "TODO \n",
    "om te vermijden dat er kei veel moet geloopt worden over elke lijst van elke input parameter, \n",
    "kan er gesplit worden gewoon op spatie, en dan een ander keyword meegeven om te beslissen of alle\n",
    "params gecombineerd worden, of dat het per model is.\n",
    "\n",
    "'''\n",
    "\n",
    "\n",
    "\n",
    "infile = '/lhome/silkem/ChemTorch/ChemTorch/input/input.txt'\n",
    "\n",
    "filelines = list()\n",
    "\n",
    "with open(infile, 'r') as f:\n",
    "    lines = f.readlines()\n",
    "    \n",
    "\n",
    "print(lines)\n",
    "\n",
    "\n",
    "for i in range(len(lines)):\n",
    "    lines[i]=lines[i].replace(' \\n', '')\n",
    "    lines[i]=lines[i].replace('\\n', '')\n",
    "    lines[i]=lines[i].split(' ')\n",
    "\n",
    "    if lines[i][0] == 'dens':\n",
    "        dens_idx = i\n",
    "        dens_line = lines[i][2:]\n",
    "\n",
    "    if lines[i][0] == 'temp':\n",
    "        temp_idx = i\n",
    "        temp_line = lines[i][2:]\n",
    "\n",
    "    if lines[i][0] == 'delta':\n",
    "        delta_idx = i\n",
    "        delta_line = lines[i][2:]\n",
    "\n",
    "    if lines[i][0] == 'Av':\n",
    "        Av_idx = i\n",
    "        Av_line = lines[i][2:]\n",
    "\n",
    "\n",
    "print(dens_line)\n",
    "print(temp_line)\n",
    "\n",
    "if len(dens_line) > 1 and dens_line[1] == ':':\n",
    "    type = 'single'\n",
    "\n",
    "if len(dens_line) > 1 and dens_line[1] == ';':\n",
    "    type = 'combine'\n",
    "\n",
    "else: type = 'none'\n",
    "\n",
    "print(type)\n",
    "\n",
    "input = dict()"
   ]
  },
  {
   "cell_type": "markdown",
   "metadata": {},
   "source": [
    "### Three body reactions"
   ]
  },
  {
   "cell_type": "code",
   "execution_count": 3,
   "metadata": {},
   "outputs": [],
   "source": [
    "def read_rate_file():\n",
    "\n",
    "    loc = 'rates/rate16_IP_2330K_AP_6000K.rates'\n",
    "\n",
    "    rates = dict()\n",
    "    with open(loc, 'r') as f:\n",
    "        lines = f.readlines()\n",
    "        for i in range(len(lines)):\n",
    "            line = lines[i].split(':')\n",
    "            rates[int(line[0])] = line[1:]\n",
    "    \n",
    "    type = list()\n",
    "    no = list()\n",
    "    α = np.zeros(len(rates))\n",
    "    β = np.zeros(len(rates))\n",
    "    γ = np.zeros(len(rates))\n",
    "    for nb in rates:\n",
    "        no.append(nb)\n",
    "        type.append(str(rates[nb][0]))\n",
    "        α[nb-1] = float(rates[nb][8])\n",
    "        β[nb-1] = float(rates[nb][9])\n",
    "        γ[nb-1] = float(rates[nb][10])\n",
    "\n",
    "    return rates, no, type, α, β, γ"
   ]
  },
  {
   "cell_type": "code",
   "execution_count": 104,
   "metadata": {},
   "outputs": [],
   "source": [
    "# Read the rates file and return the rate coefficients per reaction: \n",
    "#               reaction no.:type:R1:R2:P1:P2:P3:P4:NE:α : β : γ: Tl :Tu:ST:ACC:REF\n",
    "# indices                 0    1  2  3  4  5  6  7  8  9  10  11  12  13 14 15 "
   ]
  },
  {
   "cell_type": "code",
   "execution_count": 63,
   "metadata": {},
   "outputs": [],
   "source": [
    "rates, no, type, α, β, γ = read_rate_file()"
   ]
  },
  {
   "cell_type": "code",
   "execution_count": 4,
   "metadata": {},
   "outputs": [],
   "source": [
    "def read_specs_file(chemtype):\n",
    "\n",
    "    loc = 'rates/rate16_IP_6000K_'+chemtype+'rich_mean_Htot.specs'\n",
    "\n",
    "    # specs = dict()\n",
    "\n",
    "    specs = np.loadtxt(loc, skiprows=1,   max_rows=466, usecols=(1), dtype=str)\n",
    "    consv = np.loadtxt(loc, skiprows=468, max_rows=2  , usecols=(1), dtype=str)\n",
    "    parnt = np.loadtxt(loc, skiprows=471   , usecols= (0,1), dtype=str)\n",
    "    \n",
    "\n",
    "    return specs, (parnt).T, consv"
   ]
  },
  {
   "cell_type": "code",
   "execution_count": 38,
   "metadata": {},
   "outputs": [],
   "source": [
    "specs, parnt, consv = read_specs_file('C')"
   ]
  },
  {
   "cell_type": "markdown",
   "metadata": {},
   "source": [
    "### Calculating rates"
   ]
  },
  {
   "cell_type": "code",
   "execution_count": 5,
   "metadata": {},
   "outputs": [],
   "source": [
    "## input values physics\n",
    "ρ = 1e-6\n",
    "T = 2500.\n",
    "δ = 1.\n",
    "Av = 1.\n",
    "\n",
    "## input chemistry\n",
    "chemtype = 'C'\n",
    "\n",
    "## calculate H accretion on dust\n",
    "Haccr = stckH *pi*(rGr**2.0)*ρ*nGr*(8.0*kB*T/(pi*mH))**0.5"
   ]
  },
  {
   "cell_type": "code",
   "execution_count": 11,
   "metadata": {},
   "outputs": [],
   "source": [
    "def calculating_rates(T, δ, Av):\n",
    "\n",
    "    rates,type, α, β, γ = read_rate_file()\n",
    "\n",
    "    print(len(type))\n",
    "\n",
    "    k = np.zeros(len(type)+1)\n",
    "\n",
    "    for i in range(len(type)):\n",
    "        if type[i] == 'CP':\n",
    "            k[i+1] = r.CP_rate(α[i]) \n",
    "        if type[i] == 'CR':\n",
    "            k[i+1] = r.CR_rate(α[i], β[i], γ[i], T)\n",
    "        if type[i] == 'PH':\n",
    "            k[i+1] = r.photodissociation_rate(α[i], γ[i], δ, Av)\n",
    "        else:\n",
    "            k[i+1] = r.Arrhenius_rate(α[i], β[i], γ[i], T)\n",
    "\n",
    "    return k\n",
    "\n",
    "\n",
    "def initialise_abs(chemtype):\n",
    "    specs, parnt, consv = r.read_specs_file(chemtype)\n",
    "\n",
    "    ## Initial abundances of the non-conserved species\n",
    "    abs = np.zeros(len(specs)+1)\n",
    "\n",
    "    for i in range(len(specs)):\n",
    "        for j in range(len(parnt)):\n",
    "            if specs[i] == parnt[0][j]:\n",
    "                abs[i+1] = parnt[1][j]\n",
    "        # if specs[i] == 'CO'\n",
    "        #     iCO = i\n",
    "\n",
    "    ## Initialise abundances of the conserved species\n",
    "    abs_consv = np.zeros(len(consv)+1)\n",
    "    abs_consv[2] = 0.5\n",
    "\n",
    "    return abs, abs_consv"
   ]
  },
  {
   "cell_type": "code",
   "execution_count": 12,
   "metadata": {},
   "outputs": [],
   "source": [
    "n, n_consv = initialise_abs(chemtype)"
   ]
  },
  {
   "cell_type": "code",
   "execution_count": 8,
   "metadata": {},
   "outputs": [
    {
     "name": "stdout",
     "output_type": "stream",
     "text": [
      "6852\n"
     ]
    }
   ],
   "source": [
    "ndot = np.zeros(len(n))\n",
    "X    = np.zeros(len(n_consv))\n",
    "\n",
    "k = calculating_rates(T, δ, Av)"
   ]
  },
  {
   "cell_type": "code",
   "execution_count": 9,
   "metadata": {},
   "outputs": [],
   "source": [
    "X, ndot = o.ODE(n, n_consv, ndot, X, k, ρ, Haccr)"
   ]
  },
  {
   "cell_type": "markdown",
   "metadata": {},
   "source": [
    "### Outflow density"
   ]
  },
  {
   "cell_type": "code",
   "execution_count": 51,
   "metadata": {},
   "outputs": [],
   "source": [
    "def density(Mdot,v, r):\n",
    "    '''\n",
    "    Input \n",
    "        - mass-loss rate (Mdot) in units of Msol/yr\n",
    "        - outflow velocity (v) in units of km/s\n",
    "        - radius (r): location of the outflow, inputs of cm\n",
    "    Output\n",
    "        - density in units of g/cm^3\n",
    "    '''\n",
    "    # r    = 1e18 #* unt.cgs.cm                       # cm\n",
    "    Mdot = Mdot * Msunyr                            # gram/s\n",
    "    v    = v    * cms                               # cm/s\n",
    "\n",
    "\n",
    "    dens = Mdot / (4*pi * v * r**2 * mu * mH)       # g/cm^3\n",
    "\n",
    "    # dens = dens * g_to_kg * cm_to_m**(-3)           # kg/m^3\n",
    "\n",
    "    return dens"
   ]
  },
  {
   "cell_type": "code",
   "execution_count": 52,
   "metadata": {},
   "outputs": [
    {
     "name": "stdout",
     "output_type": "stream",
     "text": [
      "1.13E+07\n",
      "7.51E+05\n",
      "1.13E+05\n",
      "2.25E+04\n"
     ]
    }
   ],
   "source": [
    "r = 1.e15\n",
    "print('{:.2E}'.format(density(1.e-5, 10., r)))\n",
    "print('{:.2E}'.format(density(1.e-6, 15., r)))\n",
    "print('{:.2E}'.format(density(1.e-7, 10., r)))\n",
    "print('{:.2E}'.format(density(1.e-8, 5. , r)))"
   ]
  }
 ],
 "metadata": {
  "interpreter": {
   "hash": "4cfec3ae79f839ed35c55406a3ad8c3c1082e0129819951cbf0a51bf47981102"
  },
  "kernelspec": {
   "display_name": "Python 3.9.16 ('mace')",
   "language": "python",
   "name": "python3"
  },
  "language_info": {
   "codemirror_mode": {
    "name": "ipython",
    "version": 3
   },
   "file_extension": ".py",
   "mimetype": "text/x-python",
   "name": "python",
   "nbconvert_exporter": "python",
   "pygments_lexer": "ipython3",
   "version": "3.9.16"
  },
  "orig_nbformat": 4
 },
 "nbformat": 4,
 "nbformat_minor": 2
}
