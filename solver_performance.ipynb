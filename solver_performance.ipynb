{
 "cells": [
  {
   "cell_type": "code",
   "execution_count": 1,
   "id": "40d69fca-d698-4866-bca5-4df6ca46b954",
   "metadata": {},
   "outputs": [],
   "source": [
    "import numpy as np\n",
    "\n",
    "from tqdm   import tqdm\n",
    "from time   import time\n",
    "from random import sample"
   ]
  },
  {
   "cell_type": "code",
   "execution_count": 6,
   "id": "4bdb8c68-9091-48f8-a98c-cafe0266ce08",
   "metadata": {},
   "outputs": [
    {
     "data": {
      "text/plain": [
       "7500"
      ]
     },
     "execution_count": 6,
     "metadata": {},
     "output_type": "execute_result"
    }
   ],
   "source": [
    "n_species       = 500\n",
    "species_indices = range(n_species)\n",
    "\n",
    "n1 = 3\n",
    "n2 = 2\n",
    "n3 = 2\n",
    "n4 = 2\n",
    "\n",
    "sample_indices_1a = sample(species_indices, n1)\n",
    "sample_indices_1b = sample(species_indices, n1)\n",
    "sample_indices_2  = sample(species_indices, n2)\n",
    "sample_indices_3  = sample(species_indices, n3)\n",
    "sample_indices_4  = sample(species_indices, n4)\n",
    "\n",
    "np.save(\"sample_indices_1a.npy\", sample_indices_1a)\n",
    "np.save(\"sample_indices_1b.npy\", sample_indices_1b)\n",
    "np.save(\"sample_indices_2.npy\",  sample_indices_2)\n",
    "np.save(\"sample_indices_3.npy\",  sample_indices_3)\n",
    "np.save(\"sample_indices_4.npy\",  sample_indices_4)\n",
    "\n",
    "atol = 1.0e-9\n",
    "rtol = 1.0e-9\n",
    "\n",
    "n_batch = 10\n",
    "\n",
    "n_reactions = n_species * (n1**2 + n2 + n3 + n4)\n",
    "n_reactions"
   ]
  },
  {
   "cell_type": "code",
   "execution_count": 7,
   "id": "2e657494-65e8-4b00-b61d-27bbcae659ad",
   "metadata": {},
   "outputs": [],
   "source": [
    "sample_indices_1a = np.load(\"sample_indices_1a.npy\")\n",
    "sample_indices_1b = np.load(\"sample_indices_1b.npy\")\n",
    "sample_indices_2  = np.load(\"sample_indices_2.npy\")\n",
    "sample_indices_3  = np.load(\"sample_indices_3.npy\")\n",
    "sample_indices_4  = np.load(\"sample_indices_4.npy\")"
   ]
  },
  {
   "cell_type": "code",
   "execution_count": 9,
   "id": "a2f23f88-3de2-436c-b3a8-b19d497aea6e",
   "metadata": {},
   "outputs": [
    {
     "name": "stderr",
     "output_type": "stream",
     "text": [
      "100%|██████████| 500/500 [00:00<00:00, 37858.83it/s]"
     ]
    },
    {
     "name": "stderr",
     "output_type": "stream",
     "text": [
      "\n"
     ]
    }
   ],
   "source": [
    "# Write ODE file for scipy version\n",
    "f_str  = f\"import numpy as np        \\n\"\n",
    "f_str += f\"                          \\n\"\n",
    "f_str += f\"def f(t, y, args):        \\n\"\n",
    "f_str += f\"    k1, k2, k3, k4 = args \\n\"\n",
    "# f_str += f\"    f = np.empty_like(y)  \\n\"\n",
    "f_str += f\"    f = np.empty({n_species})  \\n\"\n",
    "\n",
    "for i in tqdm(species_indices):\n",
    "    eqn = f\"    f[{i}] =\"\n",
    "    # y_j + y_l -> y_i\n",
    "    for j in sample_indices_1a:\n",
    "        for l in sample_indices_1b:\n",
    "            eqn += f\" +k1[{i},{j}]*y[{j}]*y[{l}]\"\n",
    "    # Creation?\n",
    "    for m in sample_indices_2:\n",
    "        eqn += f\" +k2[{m}]*y[{m}]\"\n",
    "    # Destruction?\n",
    "    for r in sample_indices_3:\n",
    "        eqn += f\" -k3[{i},{r}]*y[{i}]*y[{r}]\"\n",
    "    # Destruction?\n",
    "    for s in sample_indices_4:\n",
    "        eqn += f\" -k4[{s}]*y[{i}]\"\n",
    "    eqn += \"\\n\"\n",
    "    f_str   += eqn\n",
    "f_str += f\"    return f\"\n",
    "\n",
    "with open('f_scipy.py', \"w\") as file:\n",
    "    file.write(f_str)"
   ]
  },
  {
   "cell_type": "code",
   "execution_count": 8,
   "id": "c5b0bbf6-7d63-4dd0-b470-b3a70350e933",
   "metadata": {},
   "outputs": [
    {
     "name": "stderr",
     "output_type": "stream",
     "text": [
      "100%|██████████| 500/500 [00:00<00:00, 33886.25it/s]"
     ]
    },
    {
     "name": "stderr",
     "output_type": "stream",
     "text": [
      "\n"
     ]
    }
   ],
   "source": [
    "# Write ODE file for torch version\n",
    "f_str  = f\"import torch                \\n\"\n",
    "f_str += f\"                            \\n\"\n",
    "f_str += f\"def f(t, y, args):          \\n\"\n",
    "f_str += f\"    k1, k2, k3, k4 = args   \\n\"\n",
    "f_str += f\"    f = torch.empty_like(y) \\n\"\n",
    "\n",
    "for i in tqdm(species_indices):\n",
    "    eqn = f\"    f[:,{i}] =\"\n",
    "    # y_j + y_l -> y_i\n",
    "    for j in sample_indices_1a:\n",
    "        for l in sample_indices_1b:\n",
    "            eqn += f\" +k1[{i},{j}]*y[:,{j}]*y[:,{l}]\"\n",
    "    # Creation?\n",
    "    for m in sample_indices_2:\n",
    "        eqn += f\" +k2[{m}]*y[:,{m}]\"\n",
    "    # Destruction?\n",
    "    for r in sample_indices_3:\n",
    "        eqn += f\" -k3[{i},{r}]*y[:,{i}]*y[:,{r}]\"\n",
    "    # Destruction?\n",
    "    for s in sample_indices_4:\n",
    "        eqn += f\" -k4[{s}]*y[:,{i}]\"\n",
    "    eqn += \"\\n\"\n",
    "    f_str   += eqn\n",
    "f_str += f\"    return f\"\n",
    "\n",
    "with open('f_torch.py', \"w\") as file:\n",
    "    file.write(f_str)"
   ]
  },
  {
   "cell_type": "code",
   "execution_count": 6,
   "id": "68fb50b2-5d58-43b8-b5ad-585d7226739d",
   "metadata": {},
   "outputs": [],
   "source": [
    "from f_scipy import f as f_scipy\n",
    "from f_torch import f as f_torch"
   ]
  },
  {
   "cell_type": "code",
   "execution_count": 7,
   "id": "5008a971-5ba0-45fa-b82d-1e00b70df7bd",
   "metadata": {},
   "outputs": [],
   "source": [
    "# Initial conditions\n",
    "t0 = 0.0\n",
    "y0 = np.random.rand(n_species).astype(np.float64)\n",
    "\n",
    "# End time and time step\n",
    "t1 = 1.0e-1\n",
    "dt = t1\n",
    "\n",
    "t_eval = np.arange(t0, t1+1.0e-9, step=dt, dtype=np.float64)\n",
    "\n",
    "# # Rate coefficients\n",
    "# k1 = np.random.rand(n_species, n_species).astype(np.float64)\n",
    "# k2 = np.random.rand(n_species           ).astype(np.float64)\n",
    "# k3 = np.random.rand(n_species, n_species).astype(np.float64)\n",
    "# k4 = np.random.rand(n_species           ).astype(np.float64)\n",
    "\n",
    "# np.save(\"k1.npy\", k1)\n",
    "# np.save(\"k2.npy\", k2)\n",
    "# np.save(\"k3.npy\", k3)\n",
    "# np.save(\"k4.npy\", k4)\n",
    "\n",
    "k1 = np.load(\"k1.npy\")\n",
    "k2 = np.load(\"k2.npy\")\n",
    "k3 = np.load(\"k3.npy\")\n",
    "k4 = np.load(\"k4.npy\")"
   ]
  },
  {
   "cell_type": "code",
   "execution_count": 8,
   "id": "ae53b1e8-0751-468f-a2e9-e481f2091d4f",
   "metadata": {},
   "outputs": [],
   "source": [
    "from scipy.integrate import ode"
   ]
  },
  {
   "cell_type": "code",
   "execution_count": 9,
   "id": "ea5aa181-6665-4754-b47f-d890944222c5",
   "metadata": {},
   "outputs": [
    {
     "data": {
      "text/plain": [
       "7.885047912597656"
      ]
     },
     "execution_count": 9,
     "metadata": {},
     "output_type": "execute_result"
    }
   ],
   "source": [
    "# Ground truth (reference)\n",
    "args = (k1, k2, k3, k4)\n",
    "\n",
    "# Setup the solver\n",
    "solver = ode(f_scipy)\n",
    "solver.set_integrator(\n",
    "    \"vode\",\n",
    "    method        = \"bdf\",\n",
    "    with_jacobian = True,\n",
    "    atol          = 1.0e-16,\n",
    "    rtol          = 1.0e-16\n",
    ")\n",
    "solver.set_initial_value(y0, t0)\n",
    "solver.set_f_params(args)\n",
    "\n",
    "# Run solver\n",
    "wct =- time()\n",
    "solution = solver.integrate(dt)\n",
    "wct += time()\n",
    "    \n",
    "if not solver.successful():\n",
    "    raise RuntimeError(\"Solver issue!\")\n",
    "\n",
    "yt_scipy = solution\n",
    "yt_truth = yt_scipy\n",
    "wct"
   ]
  },
  {
   "cell_type": "code",
   "execution_count": 44,
   "id": "212536aa-ab1f-4aae-b608-356ce50f9e90",
   "metadata": {},
   "outputs": [],
   "source": [
    "def relative_diff(a, b):\n",
    "    return np.abs(2.0*(a-b)/(a+b))"
   ]
  },
  {
   "cell_type": "code",
   "execution_count": null,
   "id": "bb2b2964-cded-45b2-b68f-24063576b0a9",
   "metadata": {},
   "outputs": [
    {
     "name": "stderr",
     "output_type": "stream",
     "text": [
      "4it [08:15, 113.08s/it]"
     ]
    }
   ],
   "source": [
    "# Benchmark scipy solvers\n",
    "n_test = 20\n",
    "\n",
    "atols = [1.0e-16 * 10**i for i in range(16)]\n",
    "rtols = [1.0e-16 * 10**i for i in range(16)]\n",
    "\n",
    "wcts = []\n",
    "avgs = []\n",
    "maxs = []\n",
    "\n",
    "for atol, rtol in tqdm(zip(atols, rtols)):\n",
    "    wcts.append(np.zeros(n_test))\n",
    "    avgs.append(np.zeros(n_test))\n",
    "    maxs.append(np.zeros(n_test))\n",
    "\n",
    "    for i in range(n_test):\n",
    "        \n",
    "        args = (k1, k2, k3, k4)\n",
    "\n",
    "        # Setup the solver\n",
    "        solver = ode(f_scipy)\n",
    "        solver.set_integrator(\n",
    "            \"vode\",\n",
    "            method        = \"bdf\",\n",
    "            with_jacobian = True,\n",
    "            atol          = atol,\n",
    "            rtol          = rtol\n",
    "        )\n",
    "        solver.set_initial_value(y0, t0)\n",
    "        solver.set_f_params(args)\n",
    "\n",
    "        # Run solver\n",
    "        wct =- time()\n",
    "        solution = solver.integrate(dt)\n",
    "        wct += time()\n",
    "    \n",
    "        if not solver.successful():\n",
    "            raise RuntimeError(\"Solver issue!\")\n",
    "\n",
    "        yt_scipy = solution\n",
    "        \n",
    "        rel_diff = relative_diff(yt_scipy, yt_truth)\n",
    "        \n",
    "        wcts[-1][i] = wct\n",
    "        avgs[-1][i] = np.mean(rel_diff)\n",
    "        maxs[-1][i] = np.max (rel_diff)\n",
    "        \n",
    "vj_wcts_avg = np.array([np.mean(w) for w in wcts])\n",
    "vj_wcts_max = np.array([np.max (w) for w in wcts])\n",
    "vj_avgs     = np.array([np.mean(a) for a in avgs])\n",
    "vj_maxs     = np.array([np.max (m) for m in maxs])\n",
    "\n",
    "np.save(\"vj_wcts_avg.npy\", vj_wcts_avg)\n",
    "np.save(\"vj_wcts_max.npy\", vj_wcts_max)\n",
    "np.save(\"vj_avgs.npy\",     vj_avgs)\n",
    "np.save(\"vj_maxs.npy\",     vj_maxs)"
   ]
  },
  {
   "cell_type": "code",
   "execution_count": null,
   "id": "8c0ab67f-26fc-4173-bce8-1c6e7caead81",
   "metadata": {},
   "outputs": [],
   "source": [
    "# Benchmark scipy solvers\n",
    "n_test = 20\n",
    "\n",
    "atols = [1.0e-16 * 10**i for i in range(16)]\n",
    "rtols = [1.0e-16 * 10**i for i in range(16)]\n",
    "\n",
    "wcts = []\n",
    "avgs = []\n",
    "maxs = []\n",
    "\n",
    "for atol, rtol in tqdm(zip(atols, rtols)):\n",
    "    wcts.append(np.zeros(n_test))\n",
    "    avgs.append(np.zeros(n_test))\n",
    "    maxs.append(np.zeros(n_test))\n",
    "\n",
    "    for i in range(n_test):\n",
    "        \n",
    "        args = (k1, k2, k3, k4)\n",
    "\n",
    "        # Setup the solver\n",
    "        solver = ode(f_scipy)\n",
    "        solver.set_integrator(\n",
    "            \"vode\",\n",
    "            method        = \"bdf\",\n",
    "            with_jacobian = False,\n",
    "            atol          = atol,\n",
    "            rtol          = rtol\n",
    "        )\n",
    "        solver.set_initial_value(y0, t0)\n",
    "        solver.set_f_params(args)\n",
    "\n",
    "        # Run solver\n",
    "        wct =- time()\n",
    "        solution = solver.integrate(dt)\n",
    "        wct += time()\n",
    "    \n",
    "        if not solver.successful():\n",
    "            raise RuntimeError(\"Solver issue!\")\n",
    "\n",
    "        yt_scipy = solution\n",
    "        \n",
    "        rel_diff = relative_diff(yt_scipy, yt_truth)\n",
    "        \n",
    "        wcts[-1][i] = wct\n",
    "        avgs[-1][i] = np.mean(rel_diff)\n",
    "        maxs[-1][i] = np.max (rel_diff)\n",
    "        \n",
    "v_wcts_avg = np.array([np.mean(w) for w in wcts])\n",
    "v_wcts_max = np.array([np.max (w) for w in wcts])\n",
    "v_avgs     = np.array([np.mean(a) for a in avgs])\n",
    "v_maxs     = np.array([np.max (m) for m in maxs])\n",
    "\n",
    "np.save(\"v_wcts_avg.npy\", v_wcts_avg)\n",
    "np.save(\"v_wcts_max.npy\", v_wcts_max)\n",
    "np.save(\"v_avgs.npy\",     v_avgs)\n",
    "np.save(\"v_maxs.npy\",     v_maxs)"
   ]
  },
  {
   "cell_type": "code",
   "execution_count": null,
   "id": "ebeec072-b9dd-4d3d-ac40-40a6a6631ab7",
   "metadata": {},
   "outputs": [],
   "source": [
    "# Benchmark scipy solvers\n",
    "n_test = 20\n",
    "\n",
    "atols = [1.0e-13 * 10**i for i in range(13)]\n",
    "rtols = [1.0e-13 * 10**i for i in range(13)]\n",
    "\n",
    "wcts = []\n",
    "avgs = []\n",
    "maxs = []\n",
    "\n",
    "for atol, rtol in tqdm(zip(atols, rtols)):\n",
    "    wcts.append(np.zeros(n_test))\n",
    "    avgs.append(np.zeros(n_test))\n",
    "    maxs.append(np.zeros(n_test))\n",
    "\n",
    "    for i in range(n_test):\n",
    "        \n",
    "        args = (k1, k2, k3, k4)\n",
    "\n",
    "        # Setup the solver\n",
    "        solver = ode(f_scipy)\n",
    "        solver.set_integrator(\n",
    "            \"lsoda\",\n",
    "            atol          = atol,\n",
    "            rtol          = rtol\n",
    "        )\n",
    "        solver.set_initial_value(y0, t0)\n",
    "        solver.set_f_params(args)\n",
    "\n",
    "        # Run solver\n",
    "        wct =- time()\n",
    "        solution = solver.integrate(dt)\n",
    "        wct += time()\n",
    "    \n",
    "        if not solver.successful():\n",
    "            raise RuntimeError(\"Solver issue!\")\n",
    "\n",
    "        yt_scipy = solution\n",
    "        \n",
    "        rel_diff = relative_diff(yt_scipy, yt_truth)\n",
    "        \n",
    "        wcts[-1][i] = wct\n",
    "        avgs[-1][i] = np.mean(rel_diff)\n",
    "        maxs[-1][i] = np.max (rel_diff)\n",
    "        \n",
    "l_wcts_avg = np.array([np.mean(w) for w in wcts])\n",
    "l_wcts_max = np.array([np.max (w) for w in wcts])\n",
    "l_avgs     = np.array([np.mean(a) for a in avgs])\n",
    "l_maxs     = np.array([np.max (m) for m in maxs])\n",
    "\n",
    "np.save(\"l_wcts_avg.npy\", l_wcts_avg)\n",
    "np.save(\"l_wcts_max.npy\", l_wcts_max)\n",
    "np.save(\"l_avgs.npy\",     l_avgs)\n",
    "np.save(\"l_maxs.npy\",     l_maxs)"
   ]
  },
  {
   "cell_type": "code",
   "execution_count": null,
   "id": "c1ec2e65-355f-44b0-8466-4e0d0d087e87",
   "metadata": {},
   "outputs": [],
   "source": [
    "# Benchmark scipy solvers\n",
    "n_test = 20\n",
    "\n",
    "atols = [1.0e-13 * 10**i for i in range(13)]\n",
    "rtols = [1.0e-13 * 10**i for i in range(13)]\n",
    "\n",
    "wcts = []\n",
    "avgs = []\n",
    "maxs = []\n",
    "\n",
    "for atol, rtol in tqdm(zip(atols, rtols)):\n",
    "    wcts.append(np.zeros(n_test))\n",
    "    avgs.append(np.zeros(n_test))\n",
    "    maxs.append(np.zeros(n_test))\n",
    "\n",
    "    for i in range(n_test):\n",
    "        \n",
    "        args = (k1, k2, k3, k4)\n",
    "\n",
    "        # Setup the solver\n",
    "        solver = ode(f_scipy)\n",
    "        solver.set_integrator(\n",
    "            \"dopri5\",\n",
    "            atol          = atol,\n",
    "            rtol          = rtol\n",
    "        )\n",
    "        solver.set_initial_value(y0, t0)\n",
    "        solver.set_f_params(args)\n",
    "\n",
    "        # Run solver\n",
    "        wct =- time()\n",
    "        solution = solver.integrate(dt)\n",
    "        wct += time()\n",
    "    \n",
    "        if not solver.successful():\n",
    "            raise RuntimeError(\"Solver issue!\")\n",
    "\n",
    "        yt_scipy = solution\n",
    "        \n",
    "        rel_diff = relative_diff(yt_scipy, yt_truth)\n",
    "        \n",
    "        wcts[-1][i] = wct\n",
    "        avgs[-1][i] = np.mean(rel_diff)\n",
    "        maxs[-1][i] = np.max (rel_diff)\n",
    "        \n",
    "d_wcts_avg = np.array([np.mean(w) for w in wcts])\n",
    "d_wcts_max = np.array([np.max (w) for w in wcts])\n",
    "d_avgs     = np.array([np.mean(a) for a in avgs])\n",
    "d_maxs     = np.array([np.max (m) for m in maxs])\n",
    "\n",
    "np.save(\"d_wcts_avg.npy\", d_wcts_avg)\n",
    "np.save(\"d_wcts_max.npy\", d_wcts_max)\n",
    "np.save(\"d_avgs.npy\",     d_avgs)\n",
    "np.save(\"d_maxs.npy\",     d_maxs)"
   ]
  },
  {
   "cell_type": "code",
   "execution_count": null,
   "id": "ac726f71-a9ef-4466-b623-f3f95acecfce",
   "metadata": {},
   "outputs": [],
   "source": [
    "# Benchmark scipy solvers\n",
    "n_test = 20\n",
    "\n",
    "atols = [1.0e-13 * 10**i for i in range(13)]\n",
    "rtols = [1.0e-13 * 10**i for i in range(13)]\n",
    "\n",
    "wcts = []\n",
    "avgs = []\n",
    "maxs = []\n",
    "\n",
    "for atol, rtol in tqdm(zip(atols, rtols)):\n",
    "    wcts.append(np.zeros(n_test))\n",
    "    avgs.append(np.zeros(n_test))\n",
    "    maxs.append(np.zeros(n_test))\n",
    "\n",
    "    for i in range(n_test):\n",
    "        \n",
    "        args = (k1, k2, k3, k4)\n",
    "\n",
    "        # Setup the solver\n",
    "        solver = ode(f_scipy)\n",
    "        solver.set_integrator(\n",
    "            \"dop853\",\n",
    "            atol          = atol,\n",
    "            rtol          = rtol\n",
    "        )\n",
    "        solver.set_initial_value(y0, t0)\n",
    "        solver.set_f_params(args)\n",
    "\n",
    "        # Run solver\n",
    "        wct =- time()\n",
    "        solution = solver.integrate(dt)\n",
    "        wct += time()\n",
    "    \n",
    "        if not solver.successful():\n",
    "            raise RuntimeError(\"Solver issue!\")\n",
    "\n",
    "        yt_scipy = solution\n",
    "        \n",
    "        rel_diff = relative_diff(yt_scipy, yt_truth)\n",
    "        \n",
    "        wcts[-1][i] = wct\n",
    "        avgs[-1][i] = np.mean(rel_diff)\n",
    "        maxs[-1][i] = np.max (rel_diff)\n",
    "        \n",
    "d8_wcts_avg = np.array([np.mean(w) for w in wcts])\n",
    "d8_wcts_max = np.array([np.max (w) for w in wcts])\n",
    "d8_avgs     = np.array([np.mean(a) for a in avgs])\n",
    "d8_maxs     = np.array([np.max (m) for m in maxs])\n",
    "\n",
    "np.save(\"d8_wcts_avg.npy\", d8_wcts_avg)\n",
    "np.save(\"d8_wcts_max.npy\", d8_wcts_max)\n",
    "np.save(\"d8_avgs.npy\",     d8_avgs)\n",
    "np.save(\"d8_maxs.npy\",     d8_maxs)"
   ]
  },
  {
   "cell_type": "code",
   "execution_count": 54,
   "id": "c13978f5-a6c7-4c7d-8f2e-5a675d64a561",
   "metadata": {},
   "outputs": [],
   "source": [
    "vj_wcts_avg = np.load(\"vj_wcts_avg.npy\")\n",
    "vj_wcts_max = np.load(\"vj_wcts_max.npy\")\n",
    "vj_avgs     = np.load(\"vj_avgs.npy\")\n",
    "vj_maxs     = np.load(\"vj_maxs.npy\")\n",
    "\n",
    "v_wcts_avg = np.load(\"v_wcts_avg.npy\")\n",
    "v_wcts_max = np.load(\"v_wcts_max.npy\")\n",
    "v_avgs     = np.load(\"v_avgs.npy\")\n",
    "v_maxs     = np.load(\"v_maxs.npy\")\n",
    "\n",
    "l_wcts_avg = np.load(\"l_wcts_avg.npy\")\n",
    "l_wcts_max = np.load(\"l_wcts_max.npy\")\n",
    "l_avgs     = np.load(\"l_avgs.npy\")\n",
    "l_maxs     = np.load(\"l_maxs.npy\")\n",
    "\n",
    "d_wcts_avg = np.load(\"d_wcts_avg.npy\")\n",
    "d_wcts_max = np.load(\"d_wcts_max.npy\")\n",
    "d_avgs     = np.load(\"d_avgs.npy\")\n",
    "d_maxs     = np.load(\"d_maxs.npy\")\n",
    "\n",
    "d8_wcts_avg = np.load(\"d8_wcts_avg.npy\")\n",
    "d8_wcts_max = np.load(\"d8_wcts_max.npy\")\n",
    "d8_avgs     = np.load(\"d8_avgs.npy\")\n",
    "d8_maxs     = np.load(\"d8_maxs.npy\")"
   ]
  },
  {
   "cell_type": "code",
   "execution_count": 55,
   "id": "6029389e-94ee-42a8-81bd-c8def105066c",
   "metadata": {},
   "outputs": [
    {
     "data": {
      "text/plain": [
       "<matplotlib.legend.Legend at 0x7f5bc6a8b2b0>"
      ]
     },
     "execution_count": 55,
     "metadata": {},
     "output_type": "execute_result"
    },
    {
     "data": {
      "image/png": "[encoded data removed]",
      "text/plain": [
       "<Figure size 900x600 with 1 Axes>"
      ]
     },
     "metadata": {
      "needs_background": "light"
     },
     "output_type": "display_data"
    }
   ],
   "source": [
    "import matplotlib.pyplot as plt\n",
    "\n",
    "plt.figure(dpi=150)\n",
    "plt.title(\"Performance Trade-off\")\n",
    "# plt.scatter(np.max(wcts_avg)/wcts_avg, avgs, label=\"mean\")\n",
    "plt.plot(np.max(vj_wcts_avg)/vj_wcts_avg, vj_maxs, label=\"vode jac\")\n",
    "plt.plot(np.max( v_wcts_avg)/ v_wcts_avg,  v_maxs, label=\"vode\")\n",
    "plt.plot(np.max( l_wcts_avg)/ l_wcts_avg,  l_maxs, label=\"lsoda\")\n",
    "plt.plot(np.max( d_wcts_avg)/ d_wcts_avg,  d_maxs, label=\"dopri5\")\n",
    "plt.plot(np.max(d8_wcts_avg)/d8_wcts_avg, d8_maxs, label=\"dop853\")\n",
    "plt.xlabel(\"average speed up\")\n",
    "plt.ylabel(\"max relative error\")\n",
    "plt.xscale('log')\n",
    "plt.yscale('log')\n",
    "plt.legend()"
   ]
  },
  {
   "cell_type": "code",
   "execution_count": 56,
   "id": "ccd46b01-1f4c-4053-9072-32a847c63e61",
   "metadata": {},
   "outputs": [
    {
     "data": {
      "text/plain": [
       "<matplotlib.legend.Legend at 0x7f5bc619b880>"
      ]
     },
     "execution_count": 56,
     "metadata": {},
     "output_type": "execute_result"
    },
    {
     "data": {
      "image/png": "[encoded data removed]",
      "text/plain": [
       "<Figure size 900x600 with 1 Axes>"
      ]
     },
     "metadata": {
      "needs_background": "light"
     },
     "output_type": "display_data"
    }
   ],
   "source": [
    "import matplotlib.pyplot as plt\n",
    "\n",
    "plt.figure(dpi=150)\n",
    "plt.title(\"Performance Trade-off\")\n",
    "# plt.scatter(np.max(wcts_avg)/wcts_avg, avgs, label=\"mean\")\n",
    "plt.plot(np.max(vj_wcts_avg)/vj_wcts_avg, vj_avgs, label=\"vode jac\")\n",
    "plt.plot(np.max( v_wcts_avg)/ v_wcts_avg,  v_avgs, label=\"vode\")\n",
    "plt.plot(np.max( l_wcts_avg)/ l_wcts_avg,  l_avgs, label=\"lsoda\")\n",
    "plt.plot(np.max( d_wcts_avg)/ d_wcts_avg,  d_avgs, label=\"dopri5\")\n",
    "plt.plot(np.max(d8_wcts_avg)/d8_wcts_avg, d8_avgs, label=\"dop853\")\n",
    "plt.xlabel(\"average speed up\")\n",
    "plt.ylabel(\"mean relative error\")\n",
    "plt.xscale('log')\n",
    "plt.yscale('log')\n",
    "plt.legend()"
   ]
  },
  {
   "cell_type": "code",
   "execution_count": 57,
   "id": "e6900113-bd18-4433-904b-4fe068c17330",
   "metadata": {},
   "outputs": [
    {
     "data": {
      "text/plain": [
       "array([4.36028501e-14, 8.52452843e-14, 4.06373938e-13, 4.85146561e-12,\n",
       "       2.34957077e-12, 8.14203176e-13, 2.02096649e-13, 4.23286856e-13,\n",
       "       5.73778154e-12, 3.11294429e-11, 3.11294429e-11, 3.11294429e-11,\n",
       "       3.11294429e-11])"
      ]
     },
     "execution_count": 57,
     "metadata": {},
     "output_type": "execute_result"
    }
   ],
   "source": [
    "d8_avgs"
   ]
  },
  {
   "cell_type": "code",
   "execution_count": 23,
   "id": "b4e027cb-90f8-428d-ab47-a236d6a53d9d",
   "metadata": {},
   "outputs": [
    {
     "name": "stdout",
     "output_type": "stream",
     "text": [
      "CPU times: user 105 µs, sys: 76 µs, total: 181 µs\n",
      "Wall time: 154 µs\n"
     ]
    }
   ],
   "source": [
    "%time solution = solver.integrate(dt)"
   ]
  },
  {
   "cell_type": "code",
   "execution_count": 17,
   "id": "8d061247-b555-4443-82ca-4f2d6bd33889",
   "metadata": {},
   "outputs": [
    {
     "name": "stdout",
     "output_type": "stream",
     "text": [
      "The slowest run took 5.33 times longer than the fastest. This could mean that an intermediate result is being cached.\n",
      "28.5 µs ± 24.8 µs per loop (mean ± std. dev. of 7 runs, 1 loop each)\n"
     ]
    }
   ],
   "source": [
    "solver.set_initial_value(y0, t0)\n",
    "solver.set_f_params(args)\n",
    "\n",
    "%timeit solution = solver.integrate(dt)"
   ]
  },
  {
   "cell_type": "code",
   "execution_count": 8,
   "id": "f00d4dd0-2a3c-451a-8e43-796801ca9e75",
   "metadata": {},
   "outputs": [
    {
     "name": "stdout",
     "output_type": "stream",
     "text": [
      "elapsed time: 16.468475580215454\n",
      "success?      True\n"
     ]
    }
   ],
   "source": [
    "import torch\n",
    "import torchode as to\n",
    "\n",
    "# Setup solver\n",
    "term                 = to.ODETerm(f_torch, with_args=True)\n",
    "step_method          = to.Tsit5(term=term)\n",
    "# step_size_controller = to.IntegralController(atol=atol, rtol=rtol, term=term)\n",
    "step_size_controller = to.PIDController(atol=atol, rtol=rtol, pcoeff=0.2, icoeff=0.5, dcoeff=0.0, term=term)\n",
    "solver               = to.AutoDiffAdjoint(step_method, step_size_controller)\n",
    "\n",
    "jit_solver = torch.compile(solver)\n",
    "\n",
    "problem = to.InitialValueProblem(\n",
    "    y0     = torch.from_numpy(y0    ).view((1,-1)),\n",
    "    t_eval = torch.from_numpy(t_eval).view((1,-1)),\n",
    ")\n",
    "\n",
    "args = (\n",
    "    torch.from_numpy(k1),\n",
    "    torch.from_numpy(k2),\n",
    "    torch.from_numpy(k3),\n",
    "    torch.from_numpy(k4)\n",
    ")\n",
    "\n",
    "# Run solver\n",
    "wct =- time()\n",
    "solution = jit_solver.solve(problem, args=args)\n",
    "wct += time()\n",
    "print(\"elapsed time:\", wct)\n",
    "print(\"success?     \", solution.status.item()==0)\n",
    "\n",
    "yt_torch = solution.ys[0][-1].numpy()"
   ]
  },
  {
   "cell_type": "code",
   "execution_count": 9,
   "id": "2fdda72e-de23-4725-bc63-aabb249de1bf",
   "metadata": {},
   "outputs": [
    {
     "data": {
      "text/plain": [
       "1.831381547245469e-07"
      ]
     },
     "execution_count": 9,
     "metadata": {},
     "output_type": "execute_result"
    }
   ],
   "source": [
    "# Maximum absolute relative difference\n",
    "np.max(np.abs(2.0 * (yt_scipy - yt_torch) / (yt_scipy + yt_torch)))"
   ]
  },
  {
   "cell_type": "code",
   "execution_count": 10,
   "id": "4c05f4c3-bd0d-4ef4-bb2a-5d544442f730",
   "metadata": {},
   "outputs": [
    {
     "data": {
      "text/plain": [
       "1.2885065936194973"
      ]
     },
     "execution_count": 10,
     "metadata": {},
     "output_type": "execute_result"
    }
   ],
   "source": [
    "yt_scipy[1]"
   ]
  },
  {
   "cell_type": "code",
   "execution_count": 11,
   "id": "aa1b1144-4f6d-4600-9e0d-37a9912e439d",
   "metadata": {},
   "outputs": [
    {
     "data": {
      "text/plain": [
       "1.2885064636677932"
      ]
     },
     "execution_count": 11,
     "metadata": {},
     "output_type": "execute_result"
    }
   ],
   "source": [
    "yt_torch[1]"
   ]
  },
  {
   "cell_type": "code",
   "execution_count": 12,
   "id": "758ed2a3-45fe-45a0-bed7-067e15184088",
   "metadata": {},
   "outputs": [
    {
     "data": {
      "text/plain": [
       "0.8906423213738007"
      ]
     },
     "execution_count": 12,
     "metadata": {},
     "output_type": "execute_result"
    }
   ],
   "source": [
    "y0[1]"
   ]
  },
  {
   "cell_type": "code",
   "execution_count": 13,
   "id": "c4756789-1c61-472f-800d-508585820636",
   "metadata": {},
   "outputs": [
    {
     "name": "stdout",
     "output_type": "stream",
     "text": [
      "elapsed time: 116.50065684318542\n"
     ]
    },
    {
     "ename": "RuntimeError",
     "evalue": "a Tensor with 10 elements cannot be converted to Scalar",
     "output_type": "error",
     "traceback": [
      "\u001b[0;31m---------------------------------------------------------------------------\u001b[0m",
      "\u001b[0;31mRuntimeError\u001b[0m                              Traceback (most recent call last)",
      "Input \u001b[0;32mIn [13]\u001b[0m, in \u001b[0;36m<cell line: 38>\u001b[0;34m()\u001b[0m\n\u001b[1;32m     36\u001b[0m wct \u001b[38;5;241m+\u001b[39m\u001b[38;5;241m=\u001b[39m time()\n\u001b[1;32m     37\u001b[0m \u001b[38;5;28mprint\u001b[39m(\u001b[38;5;124m\"\u001b[39m\u001b[38;5;124melapsed time:\u001b[39m\u001b[38;5;124m\"\u001b[39m, wct)\n\u001b[0;32m---> 38\u001b[0m \u001b[38;5;28mprint\u001b[39m(\u001b[38;5;124m\"\u001b[39m\u001b[38;5;124msuccess?     \u001b[39m\u001b[38;5;124m\"\u001b[39m, \u001b[43msolution\u001b[49m\u001b[38;5;241;43m.\u001b[39;49m\u001b[43mstatus\u001b[49m\u001b[38;5;241;43m.\u001b[39;49m\u001b[43mitem\u001b[49m\u001b[43m(\u001b[49m\u001b[43m)\u001b[49m\u001b[38;5;241m==\u001b[39m\u001b[38;5;241m0\u001b[39m)\n\u001b[1;32m     40\u001b[0m yt_torch \u001b[38;5;241m=\u001b[39m solution\u001b[38;5;241m.\u001b[39mys[\u001b[38;5;241m0\u001b[39m][\u001b[38;5;241m-\u001b[39m\u001b[38;5;241m1\u001b[39m]\u001b[38;5;241m.\u001b[39mnumpy()\n",
      "\u001b[0;31mRuntimeError\u001b[0m: a Tensor with 10 elements cannot be converted to Scalar"
     ]
    }
   ],
   "source": [
    "# Use torchode batch parallelism to generate multiple models at once?\n",
    "import torch\n",
    "import torchode as to\n",
    "\n",
    "# Setup solver\n",
    "term                 = to.ODETerm(f_torch, with_args=True)\n",
    "step_method          = to.Tsit5(term=term)\n",
    "# step_size_controller = to.IntegralController(atol=atol, rtol=rtol, term=term)\n",
    "step_size_controller = to.PIDController(atol=atol, rtol=rtol, pcoeff=0.2, icoeff=0.5, dcoeff=0.0, term=term)\n",
    "solver               = to.AutoDiffAdjoint(step_method, step_size_controller)\n",
    "\n",
    "jit_solver = torch.compile(solver)\n",
    "\n",
    "\n",
    "y0_batch = torch.rand(n_batch, n_species, dtype=torch.float64)\n",
    "\n",
    "t_eval_batch    = torch.empty(n_batch, t_eval.shape[0])\n",
    "t_eval_batch[:] = torch.from_numpy(t_eval)\n",
    "\n",
    "\n",
    "problem = to.InitialValueProblem(\n",
    "    y0     = y0_batch,\n",
    "    t_eval = t_eval_batch,\n",
    ")\n",
    "\n",
    "args = (\n",
    "    torch.from_numpy(k1),\n",
    "    torch.from_numpy(k2),\n",
    "    torch.from_numpy(k3),\n",
    "    torch.from_numpy(k4)\n",
    ")\n",
    "\n",
    "# Run solver\n",
    "wct =- time()\n",
    "solution = jit_solver.solve(problem, args=args)\n",
    "wct += time()\n",
    "print(\"elapsed time:\", wct)\n",
    "print(\"success?     \", solution.status.item()==0)\n",
    "\n",
    "yt_torch = solution.ys[0][-1].numpy()"
   ]
  },
  {
   "cell_type": "code",
   "execution_count": 19,
   "id": "163b9b8c-41fd-4719-8a43-16c8932902d6",
   "metadata": {},
   "outputs": [
    {
     "data": {
      "text/plain": [
       "torch.Size([10, 500])"
      ]
     },
     "execution_count": 19,
     "metadata": {},
     "output_type": "execute_result"
    }
   ],
   "source": [
    "n_batch = 10\n",
    "\n"
   ]
  },
  {
   "cell_type": "code",
   "execution_count": 20,
   "id": "8e08c815-5e45-430d-b8a3-93fd23122164",
   "metadata": {},
   "outputs": [
    {
     "data": {
      "text/plain": [
       "array([0. , 0.5])"
      ]
     },
     "execution_count": 20,
     "metadata": {},
     "output_type": "execute_result"
    }
   ],
   "source": [
    "t_eval"
   ]
  },
  {
   "cell_type": "code",
   "execution_count": 29,
   "id": "0d061842-e226-434b-8c13-eaa31b99a09d",
   "metadata": {},
   "outputs": [],
   "source": []
  },
  {
   "cell_type": "code",
   "execution_count": 30,
   "id": "f59dd1e8-075f-4e1a-a393-685ce6f37806",
   "metadata": {},
   "outputs": [
    {
     "data": {
      "text/plain": [
       "tensor([[0.0000, 0.5000],\n",
       "        [0.0000, 0.5000],\n",
       "        [0.0000, 0.5000],\n",
       "        [0.0000, 0.5000],\n",
       "        [0.0000, 0.5000],\n",
       "        [0.0000, 0.5000],\n",
       "        [0.0000, 0.5000],\n",
       "        [0.0000, 0.5000],\n",
       "        [0.0000, 0.5000],\n",
       "        [0.0000, 0.5000]])"
      ]
     },
     "execution_count": 30,
     "metadata": {},
     "output_type": "execute_result"
    }
   ],
   "source": [
    "t_eval_batch"
   ]
  },
  {
   "cell_type": "code",
   "execution_count": 27,
   "id": "e4183d57-505c-4458-805d-4ed77e8d9c7d",
   "metadata": {},
   "outputs": [
    {
     "data": {
      "text/plain": [
       "2"
      ]
     },
     "execution_count": 27,
     "metadata": {},
     "output_type": "execute_result"
    }
   ],
   "source": [
    "t_eval.shape[0]"
   ]
  },
  {
   "cell_type": "code",
   "execution_count": null,
   "id": "0d0f9d74-5d7e-4a9f-bde6-c8779c6b34ff",
   "metadata": {},
   "outputs": [],
   "source": [
    "# petsc\n",
    "from petsc"
   ]
  }
 ],
 "metadata": {
  "kernelspec": {
   "display_name": "Python 3 (ipykernel)",
   "language": "python",
   "name": "python3"
  },
  "language_info": {
   "codemirror_mode": {
    "name": "ipython",
    "version": 3
   },
   "file_extension": ".py",
   "mimetype": "text/x-python",
   "name": "python",
   "nbconvert_exporter": "python",
   "pygments_lexer": "ipython3",
   "version": "3.10.13"
  }
 },
 "nbformat": 4,
 "nbformat_minor": 5
}
