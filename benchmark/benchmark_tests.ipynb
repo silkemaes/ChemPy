{
 "cells": [
  {
   "cell_type": "code",
   "execution_count": 1,
   "metadata": {},
   "outputs": [],
   "source": [
    "import numpy             as np\n",
    "import matplotlib.pyplot as plt\n",
    "from astropy import units as units\n",
    "import sys\n",
    "from pathlib import Path\n",
    "from matplotlib          import rcParams, rc\n",
    "# Change the matplotlib default parameters\n",
    "rcParams.update({'font.size':   8})\n",
    "rcParams.update({'figure.dpi': 120})\n",
    "\n",
    "sys.path.append('~/ChemTorch/ChemTorch/')\n",
    "# from src.rates          import read_specs_file\n",
    "\n",
    "rate = 13\n",
    "# specs, parnt, consv = read_specs_file('C', rate)\n",
    "\n",
    "# specs_dict = dict()\n",
    "# for i in range(len(specs)):\n",
    "#     specs_dict[specs[i]] = i"
   ]
  },
  {
   "cell_type": "code",
   "execution_count": 15,
   "metadata": {},
   "outputs": [],
   "source": [
    "\n",
    "def read_data_fortran(file_name):\n",
    "    '''\n",
    "    Read data text file of output abundances of fortran dc models\n",
    "    '''\n",
    "    ## Get abundances\n",
    "    with open(file_name, 'r') as file:\n",
    "        dirty = []\n",
    "        proper = None\n",
    "        for i, line in enumerate(file):\n",
    "            try:                \n",
    "                if len(line) > 1: \n",
    "                    dirty.append([float(el) for el in line.split()])\n",
    "            except:\n",
    "                if len(dirty) != 0:\n",
    "                    max_rows = len(dirty)\n",
    "                    dirty = np.array(dirty)[:,1:]\n",
    "                    if proper is None:\n",
    "                        proper = dirty\n",
    "                    else:\n",
    "                        proper = np.concatenate((proper, dirty), axis = 1)\n",
    "                dirty = []\n",
    "        abs = proper.T\n",
    "\n",
    "    ## get time array\n",
    "    time = np.loadtxt(file_name, usecols=0, skiprows=1, max_rows=max_rows)\n",
    "\n",
    "    return time, abs\n",
    "\n",
    "\n",
    "\n",
    "def read_data_chemtorch(file_name):\n",
    "    '''\n",
    "    Read data text file of output abundances of ChemTorch models\n",
    "    '''\n",
    "    data = np.loadtxt(file_name,skiprows=1)\n",
    "    data = data.T\n",
    "    time = data[0]\n",
    "    abs = data[1:-1]\n",
    "    return time, abs\n"
   ]
  },
  {
   "cell_type": "code",
   "execution_count": 16,
   "metadata": {},
   "outputs": [],
   "source": [
    "out_dc = '/lhome/silkem/ChemTorch/ChemTorch/out/dcfortran.out'\n",
    "t_dc, abs_dc = read_data_fortran(out_dc)"
   ]
  },
  {
   "cell_type": "code",
   "execution_count": 9,
   "metadata": {},
   "outputs": [],
   "source": [
    "out_ct = '/lhome/silkem/ChemTorch/ChemTorch/out/chemtorch.out'\n",
    "t_ct, abs_ct = read_data_chemtorch(out_ct)"
   ]
  }
 ],
 "metadata": {
  "interpreter": {
   "hash": "4cfec3ae79f839ed35c55406a3ad8c3c1082e0129819951cbf0a51bf47981102"
  },
  "kernelspec": {
   "display_name": "Python 3.9.16 ('mace')",
   "language": "python",
   "name": "python3"
  },
  "language_info": {
   "codemirror_mode": {
    "name": "ipython",
    "version": 3
   },
   "file_extension": ".py",
   "mimetype": "text/x-python",
   "name": "python",
   "nbconvert_exporter": "python",
   "pygments_lexer": "ipython3",
   "version": "3.9.16"
  },
  "orig_nbformat": 4
 },
 "nbformat": 4,
 "nbformat_minor": 2
}
