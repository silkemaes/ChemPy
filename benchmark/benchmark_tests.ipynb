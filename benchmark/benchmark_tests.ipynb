{
 "cells": [
  {
   "cell_type": "code",
   "execution_count": 11,
   "metadata": {},
   "outputs": [],
   "source": [
    "import numpy             as np\n",
    "import matplotlib.pyplot as plt\n",
    "\n",
    "from matplotlib          import rcParams, rc\n",
    "# Change the matplotlib default parameters\n",
    "# rcParams.update({'font.size':   12})\n",
    "rcParams.update({'figure.dpi': 120})\n",
    "# rc('font', family='serif')\n",
    "# rc('text', usetex=True)\n",
    "\n",
    "from astropy import units as units\n",
    "\n",
    "# from ChemTorch.src.rates          import read_specs_file\n",
    "\n",
    "rate = 13\n",
    "# specs, parnt, consv = read_specs_file('C', rate)\n",
    "\n",
    "# specs_dict = dict()\n",
    "# for i in range(len(specs)):\n",
    "#     specs_dict[specs[i]] = i"
   ]
  },
  {
   "cell_type": "code",
   "execution_count": 12,
   "metadata": {},
   "outputs": [],
   "source": [
    "\n",
    "def read_data_fortran(file_name):\n",
    "    '''\n",
    "    Read data text file of output abundances of fortran dc models\n",
    "    '''\n",
    "    with open(file_name, 'r') as file:\n",
    "        dirty = []\n",
    "        proper = None\n",
    "        for line in file:\n",
    "            try:  \n",
    "                if len(line) > 1: \n",
    "                    dirty.append([float(el) for el in line.split()])\n",
    "            except:\n",
    "                if len(dirty) != 0:\n",
    "                    dirty = np.array(dirty)[:,1:]\n",
    "                    if proper is None:\n",
    "                        proper = dirty\n",
    "                    else:\n",
    "                        proper = np.concatenate((proper, dirty), axis = 1)\n",
    "                dirty = []\n",
    "    return proper\n",
    "\n",
    "# def read_data_chemtorch(file_name):\n",
    "#     ts = \n",
    "#     retur?n data\n"
   ]
  },
  {
   "cell_type": "code",
   "execution_count": 13,
   "metadata": {},
   "outputs": [
    {
     "ename": "ValueError",
     "evalue": "all the input array dimensions for the concatenation axis must match exactly, but along dimension 0, the array at index 0 has size 180 and the array at index 1 has size 92",
     "output_type": "error",
     "traceback": [
      "\u001b[0;31m---------------------------------------------------------------------------\u001b[0m",
      "\u001b[0;31mValueError\u001b[0m                                Traceback (most recent call last)",
      "Cell \u001b[0;32mIn[12], line 11\u001b[0m, in \u001b[0;36mread_data_fortran\u001b[0;34m(file_name)\u001b[0m\n\u001b[1;32m     10\u001b[0m     \u001b[38;5;28;01mif\u001b[39;00m \u001b[38;5;28mlen\u001b[39m(line) \u001b[38;5;241m>\u001b[39m \u001b[38;5;241m1\u001b[39m: \n\u001b[0;32m---> 11\u001b[0m         dirty\u001b[38;5;241m.\u001b[39mappend([\u001b[38;5;28mfloat\u001b[39m(el) \u001b[38;5;28;01mfor\u001b[39;00m el \u001b[38;5;129;01min\u001b[39;00m line\u001b[38;5;241m.\u001b[39msplit()])\n\u001b[1;32m     12\u001b[0m \u001b[38;5;28;01mexcept\u001b[39;00m:\n",
      "Cell \u001b[0;32mIn[12], line 11\u001b[0m, in \u001b[0;36m<listcomp>\u001b[0;34m(.0)\u001b[0m\n\u001b[1;32m     10\u001b[0m     \u001b[38;5;28;01mif\u001b[39;00m \u001b[38;5;28mlen\u001b[39m(line) \u001b[38;5;241m>\u001b[39m \u001b[38;5;241m1\u001b[39m: \n\u001b[0;32m---> 11\u001b[0m         dirty\u001b[38;5;241m.\u001b[39mappend([\u001b[38;5;28;43mfloat\u001b[39;49m\u001b[43m(\u001b[49m\u001b[43mel\u001b[49m\u001b[43m)\u001b[49m \u001b[38;5;28;01mfor\u001b[39;00m el \u001b[38;5;129;01min\u001b[39;00m line\u001b[38;5;241m.\u001b[39msplit()])\n\u001b[1;32m     12\u001b[0m \u001b[38;5;28;01mexcept\u001b[39;00m:\n",
      "\u001b[0;31mValueError\u001b[0m: could not convert string to float: 'TIME'",
      "\nDuring handling of the above exception, another exception occurred:\n",
      "\u001b[0;31mValueError\u001b[0m                                Traceback (most recent call last)",
      "Cell \u001b[0;32mIn[13], line 1\u001b[0m\n\u001b[0;32m----> 1\u001b[0m dc \u001b[38;5;241m=\u001b[39m \u001b[43mread_data_fortran\u001b[49m\u001b[43m(\u001b[49m\u001b[38;5;124;43m'\u001b[39;49m\u001b[38;5;124;43mdcfortran.out\u001b[39;49m\u001b[38;5;124;43m'\u001b[39;49m\u001b[43m)\u001b[49m\n",
      "Cell \u001b[0;32mIn[12], line 18\u001b[0m, in \u001b[0;36mread_data_fortran\u001b[0;34m(file_name)\u001b[0m\n\u001b[1;32m     16\u001b[0m                     proper \u001b[38;5;241m=\u001b[39m dirty\n\u001b[1;32m     17\u001b[0m                 \u001b[38;5;28;01melse\u001b[39;00m:\n\u001b[0;32m---> 18\u001b[0m                     proper \u001b[38;5;241m=\u001b[39m \u001b[43mnp\u001b[49m\u001b[38;5;241;43m.\u001b[39;49m\u001b[43mconcatenate\u001b[49m\u001b[43m(\u001b[49m\u001b[43m(\u001b[49m\u001b[43mproper\u001b[49m\u001b[43m,\u001b[49m\u001b[43m \u001b[49m\u001b[43mdirty\u001b[49m\u001b[43m)\u001b[49m\u001b[43m,\u001b[49m\u001b[43m \u001b[49m\u001b[43maxis\u001b[49m\u001b[43m \u001b[49m\u001b[38;5;241;43m=\u001b[39;49m\u001b[43m \u001b[49m\u001b[38;5;241;43m1\u001b[39;49m\u001b[43m)\u001b[49m\n\u001b[1;32m     19\u001b[0m             dirty \u001b[38;5;241m=\u001b[39m []\n\u001b[1;32m     20\u001b[0m \u001b[38;5;28;01mreturn\u001b[39;00m proper\n",
      "File \u001b[0;32m<__array_function__ internals>:180\u001b[0m, in \u001b[0;36mconcatenate\u001b[0;34m(*args, **kwargs)\u001b[0m\n",
      "\u001b[0;31mValueError\u001b[0m: all the input array dimensions for the concatenation axis must match exactly, but along dimension 0, the array at index 0 has size 180 and the array at index 1 has size 92"
     ]
    }
   ],
   "source": [
    "dc = read_data_fortran('dcfortran.out')"
   ]
  }
 ],
 "metadata": {
  "interpreter": {
   "hash": "4cfec3ae79f839ed35c55406a3ad8c3c1082e0129819951cbf0a51bf47981102"
  },
  "kernelspec": {
   "display_name": "Python 3.9.16 ('mace')",
   "language": "python",
   "name": "python3"
  },
  "language_info": {
   "codemirror_mode": {
    "name": "ipython",
    "version": 3
   },
   "file_extension": ".py",
   "mimetype": "text/x-python",
   "name": "python",
   "nbconvert_exporter": "python",
   "pygments_lexer": "ipython3",
   "version": "3.9.16"
  },
  "orig_nbformat": 4
 },
 "nbformat": 4,
 "nbformat_minor": 2
}
