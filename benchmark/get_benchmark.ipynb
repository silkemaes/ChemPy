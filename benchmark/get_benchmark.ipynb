{
 "cells": [
  {
   "cell_type": "code",
   "execution_count": 1,
   "metadata": {},
   "outputs": [],
   "source": [
    "import numpy        as np\n",
    "import os\n",
    "from os             import listdir\n",
    "from datetime       import datetime"
   ]
  },
  {
   "cell_type": "code",
   "execution_count": null,
   "metadata": {},
   "outputs": [],
   "source": [
    "class ChemTorchMod():\n",
    "    '''\n",
    "    Object representing 1 ChemTorch model.\n",
    "    Contains:\n",
    "        - n     [2d np.array]: Abundances at different timesteps\n",
    "        - tstep [1d np.array]: Timesteps that the classical ODE solver is evaluated\n",
    "        - p     [1d np.array]: input of the model -> [rho, T, delta, Av]\n",
    "    '''\n",
    "    def __init__(self, dirname, dir=None):\n",
    "        outpath = '/STER/silkem/ChemTorch/out/'\n",
    "        \n",
    "        self.n      = np.load(outpath+dirname+'/'+dir+'/abundances.npy')[:,1:]\n",
    "        self.tstep  = np.load(outpath+dirname+'/'+dir+'/tstep.npy')\n",
    "        input       = np.load(outpath+dirname+'/'+dir+'/input.npy')\n",
    "        self.p      = input[0:-1]\n",
    "        self.tictoc = np.load(outpath+dirname+'/'+dir+'/tictoc.npy')\n",
    "\n",
    "    def __len__(self):\n",
    "        return len(self.tstep)"
   ]
  },
  {
   "cell_type": "code",
   "execution_count": null,
   "metadata": {},
   "outputs": [],
   "source": []
  }
 ],
 "metadata": {
  "kernelspec": {
   "display_name": "mace",
   "language": "python",
   "name": "python3"
  },
  "language_info": {
   "codemirror_mode": {
    "name": "ipython",
    "version": 3
   },
   "file_extension": ".py",
   "mimetype": "text/x-python",
   "name": "python",
   "nbconvert_exporter": "python",
   "pygments_lexer": "ipython3",
   "version": "3.10.13"
  }
 },
 "nbformat": 4,
 "nbformat_minor": 2
}
